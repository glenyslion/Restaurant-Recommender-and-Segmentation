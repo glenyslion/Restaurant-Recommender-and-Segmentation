{
 "cells": [
  {
   "cell_type": "code",
   "execution_count": 29,
   "metadata": {},
   "outputs": [],
   "source": [
    "import pandas as pd\n",
    "import numpy as np\n",
    "import matplotlib.pyplot as plt\n",
    "from surprise import Dataset, Reader\n",
    "from surprise import SVD, SVDpp, NMF, KNNBasic, SlopeOne, CoClustering\n",
    "from surprise.model_selection import KFold, cross_validate\n",
    "from surprise import accuracy, Dataset, Reader, KNNBasic, SVD, SVDpp, NMF\n",
    "from surprise.model_selection import train_test_split, cross_validate, GridSearchCV\n",
    "import sys\n",
    "import contextlib\n",
    "from surprise import accuracy\n",
    "from sklearn.model_selection import train_test_split as train_test_split_sklearn\n",
    "from keras.models import Model\n",
    "from keras.layers import Input, Embedding, Dense, Flatten, Concatenate, Dropout, Dropout, BatchNormalization\n",
    "from keras.optimizers import Adam\n",
    "from keras.regularizers import l2\n",
    "from keras.callbacks import EarlyStopping, ReduceLROnPlateau\n",
    "import random\n",
    "from tensorflow.keras.layers import LeakyReLU, Dense, Dropout, BatchNormalization\n"
   ]
  },
  {
   "cell_type": "code",
   "execution_count": 2,
   "metadata": {},
   "outputs": [],
   "source": [
    "# adjust display settings\n",
    "pd.set_option('display.max_columns', None)\n",
    "pd.set_option('display.width', None)\n",
    "pd.set_option('display.max_colwidth', None)"
   ]
  },
  {
   "cell_type": "code",
   "execution_count": 3,
   "metadata": {},
   "outputs": [
    {
     "name": "stderr",
     "output_type": "stream",
     "text": [
      "/var/folders/nr/2_l0dxkj7vxfbxy3c016j3s00000gn/T/ipykernel_19142/498795085.py:1: DtypeWarning: Columns (14,15,16,17,18,19) have mixed types. Specify dtype option on import or set low_memory=False.\n",
      "  data = pd.read_csv('order_clean_join_all.csv')\n"
     ]
    },
    {
     "data": {
      "text/html": [
       "<div>\n",
       "<style scoped>\n",
       "    .dataframe tbody tr th:only-of-type {\n",
       "        vertical-align: middle;\n",
       "    }\n",
       "\n",
       "    .dataframe tbody tr th {\n",
       "        vertical-align: top;\n",
       "    }\n",
       "\n",
       "    .dataframe thead th {\n",
       "        text-align: right;\n",
       "    }\n",
       "</style>\n",
       "<table border=\"1\" class=\"dataframe\">\n",
       "  <thead>\n",
       "    <tr style=\"text-align: right;\">\n",
       "      <th></th>\n",
       "      <th>akeed_order_id</th>\n",
       "      <th>customer_id</th>\n",
       "      <th>item_count</th>\n",
       "      <th>grand_total</th>\n",
       "      <th>payment_mode</th>\n",
       "      <th>promo_code</th>\n",
       "      <th>vendor_discount_amount</th>\n",
       "      <th>promo_code_discount_percentage</th>\n",
       "      <th>is_favorite</th>\n",
       "      <th>is_rated</th>\n",
       "      <th>vendor_rating</th>\n",
       "      <th>driver_rating</th>\n",
       "      <th>deliverydistance</th>\n",
       "      <th>preparationtime</th>\n",
       "      <th>order_accepted_time</th>\n",
       "      <th>driver_accepted_time</th>\n",
       "      <th>ready_for_pickup_time</th>\n",
       "      <th>picked_up_time</th>\n",
       "      <th>delivered_time</th>\n",
       "      <th>delivery_date</th>\n",
       "      <th>vendor_id</th>\n",
       "      <th>created_at</th>\n",
       "      <th>LOCATION_NUMBER</th>\n",
       "      <th>gender</th>\n",
       "      <th>dob</th>\n",
       "      <th>LOCATION_TYPE</th>\n",
       "      <th>latitude</th>\n",
       "      <th>longitude</th>\n",
       "      <th>latitude_vendor</th>\n",
       "      <th>longtitude_vendor</th>\n",
       "      <th>vendor_category_en</th>\n",
       "      <th>delivery_charge</th>\n",
       "      <th>vendor_tag_name</th>\n",
       "    </tr>\n",
       "  </thead>\n",
       "  <tbody>\n",
       "    <tr>\n",
       "      <th>0</th>\n",
       "      <td>163238.0</td>\n",
       "      <td>92PEE24</td>\n",
       "      <td>1.0</td>\n",
       "      <td>7.6</td>\n",
       "      <td>2</td>\n",
       "      <td>0</td>\n",
       "      <td>0.0</td>\n",
       "      <td>0.0</td>\n",
       "      <td>No</td>\n",
       "      <td>No</td>\n",
       "      <td>0.0</td>\n",
       "      <td>0.0</td>\n",
       "      <td>0.0</td>\n",
       "      <td>45.0</td>\n",
       "      <td>NaN</td>\n",
       "      <td>NaN</td>\n",
       "      <td>NaN</td>\n",
       "      <td>NaN</td>\n",
       "      <td>NaN</td>\n",
       "      <td>2019-07-31 05:30:00</td>\n",
       "      <td>105</td>\n",
       "      <td>2019-08-01 05:30:16</td>\n",
       "      <td>0</td>\n",
       "      <td>Male</td>\n",
       "      <td>NaN</td>\n",
       "      <td>Other</td>\n",
       "      <td>-0.132100</td>\n",
       "      <td>-78.575297</td>\n",
       "      <td>-0.967769</td>\n",
       "      <td>0.080839</td>\n",
       "      <td>Restaurants</td>\n",
       "      <td>0.0</td>\n",
       "      <td>American,Burgers,Free Delivery,Hot Dogs,Pasta</td>\n",
       "    </tr>\n",
       "    <tr>\n",
       "      <th>1</th>\n",
       "      <td>163240.0</td>\n",
       "      <td>QS68UD8</td>\n",
       "      <td>1.0</td>\n",
       "      <td>8.7</td>\n",
       "      <td>1</td>\n",
       "      <td>0</td>\n",
       "      <td>0.0</td>\n",
       "      <td>0.0</td>\n",
       "      <td>No</td>\n",
       "      <td>No</td>\n",
       "      <td>0.0</td>\n",
       "      <td>0.0</td>\n",
       "      <td>0.0</td>\n",
       "      <td>45.0</td>\n",
       "      <td>NaN</td>\n",
       "      <td>NaN</td>\n",
       "      <td>NaN</td>\n",
       "      <td>NaN</td>\n",
       "      <td>NaN</td>\n",
       "      <td>2019-07-31 05:30:00</td>\n",
       "      <td>294</td>\n",
       "      <td>2019-08-01 05:31:10</td>\n",
       "      <td>0</td>\n",
       "      <td>Unknown</td>\n",
       "      <td>NaN</td>\n",
       "      <td>Work</td>\n",
       "      <td>-0.393396</td>\n",
       "      <td>-78.544417</td>\n",
       "      <td>-1.271979</td>\n",
       "      <td>0.028832</td>\n",
       "      <td>Restaurants</td>\n",
       "      <td>0.0</td>\n",
       "      <td>Burgers,Desserts,Free Delivery,Grills,Mexican</td>\n",
       "    </tr>\n",
       "    <tr>\n",
       "      <th>2</th>\n",
       "      <td>163241.0</td>\n",
       "      <td>MB7VY5F</td>\n",
       "      <td>2.0</td>\n",
       "      <td>14.4</td>\n",
       "      <td>1</td>\n",
       "      <td>0</td>\n",
       "      <td>0.0</td>\n",
       "      <td>0.0</td>\n",
       "      <td>No</td>\n",
       "      <td>No</td>\n",
       "      <td>0.0</td>\n",
       "      <td>0.0</td>\n",
       "      <td>0.0</td>\n",
       "      <td>50.0</td>\n",
       "      <td>NaN</td>\n",
       "      <td>NaN</td>\n",
       "      <td>NaN</td>\n",
       "      <td>NaN</td>\n",
       "      <td>NaN</td>\n",
       "      <td>2019-07-31 05:30:00</td>\n",
       "      <td>83</td>\n",
       "      <td>2019-08-01 05:31:33</td>\n",
       "      <td>0</td>\n",
       "      <td>Unknown</td>\n",
       "      <td>NaN</td>\n",
       "      <td>Other</td>\n",
       "      <td>-1.072823</td>\n",
       "      <td>-78.464121</td>\n",
       "      <td>-0.927944</td>\n",
       "      <td>0.145900</td>\n",
       "      <td>Restaurants</td>\n",
       "      <td>0.7</td>\n",
       "      <td>Breakfast,Desserts,Salads,Arabic</td>\n",
       "    </tr>\n",
       "    <tr>\n",
       "      <th>3</th>\n",
       "      <td>163244.0</td>\n",
       "      <td>KDJ951Y</td>\n",
       "      <td>1.0</td>\n",
       "      <td>7.1</td>\n",
       "      <td>1</td>\n",
       "      <td>0</td>\n",
       "      <td>0.0</td>\n",
       "      <td>0.0</td>\n",
       "      <td>No</td>\n",
       "      <td>No</td>\n",
       "      <td>0.0</td>\n",
       "      <td>0.0</td>\n",
       "      <td>0.0</td>\n",
       "      <td>45.0</td>\n",
       "      <td>NaN</td>\n",
       "      <td>NaN</td>\n",
       "      <td>NaN</td>\n",
       "      <td>NaN</td>\n",
       "      <td>NaN</td>\n",
       "      <td>2019-07-31 05:30:00</td>\n",
       "      <td>90</td>\n",
       "      <td>2019-08-01 05:34:54</td>\n",
       "      <td>0</td>\n",
       "      <td>Male</td>\n",
       "      <td>NaN</td>\n",
       "      <td>Home</td>\n",
       "      <td>-0.292713</td>\n",
       "      <td>-78.556316</td>\n",
       "      <td>-0.601096</td>\n",
       "      <td>0.095998</td>\n",
       "      <td>Restaurants</td>\n",
       "      <td>0.0</td>\n",
       "      <td>American,Burgers,Desserts,Mojitos ,Pasta</td>\n",
       "    </tr>\n",
       "    <tr>\n",
       "      <th>4</th>\n",
       "      <td>163245.0</td>\n",
       "      <td>BAL0RVT</td>\n",
       "      <td>4.0</td>\n",
       "      <td>27.2</td>\n",
       "      <td>1</td>\n",
       "      <td>0</td>\n",
       "      <td>0.0</td>\n",
       "      <td>0.0</td>\n",
       "      <td>No</td>\n",
       "      <td>No</td>\n",
       "      <td>0.0</td>\n",
       "      <td>0.0</td>\n",
       "      <td>0.0</td>\n",
       "      <td>50.0</td>\n",
       "      <td>NaN</td>\n",
       "      <td>NaN</td>\n",
       "      <td>NaN</td>\n",
       "      <td>NaN</td>\n",
       "      <td>NaN</td>\n",
       "      <td>2019-07-31 05:30:00</td>\n",
       "      <td>83</td>\n",
       "      <td>2019-08-01 05:35:51</td>\n",
       "      <td>0</td>\n",
       "      <td>Male</td>\n",
       "      <td>NaN</td>\n",
       "      <td>Work</td>\n",
       "      <td>-0.231810</td>\n",
       "      <td>-78.563513</td>\n",
       "      <td>-0.927944</td>\n",
       "      <td>0.145900</td>\n",
       "      <td>Restaurants</td>\n",
       "      <td>0.7</td>\n",
       "      <td>Breakfast,Desserts,Salads,Arabic</td>\n",
       "    </tr>\n",
       "  </tbody>\n",
       "</table>\n",
       "</div>"
      ],
      "text/plain": [
       "   akeed_order_id customer_id  item_count  grand_total  payment_mode  \\\n",
       "0        163238.0     92PEE24         1.0          7.6             2   \n",
       "1        163240.0     QS68UD8         1.0          8.7             1   \n",
       "2        163241.0     MB7VY5F         2.0         14.4             1   \n",
       "3        163244.0     KDJ951Y         1.0          7.1             1   \n",
       "4        163245.0     BAL0RVT         4.0         27.2             1   \n",
       "\n",
       "   promo_code  vendor_discount_amount  promo_code_discount_percentage  \\\n",
       "0           0                     0.0                             0.0   \n",
       "1           0                     0.0                             0.0   \n",
       "2           0                     0.0                             0.0   \n",
       "3           0                     0.0                             0.0   \n",
       "4           0                     0.0                             0.0   \n",
       "\n",
       "  is_favorite is_rated  vendor_rating  driver_rating  deliverydistance  \\\n",
       "0          No       No            0.0            0.0               0.0   \n",
       "1          No       No            0.0            0.0               0.0   \n",
       "2          No       No            0.0            0.0               0.0   \n",
       "3          No       No            0.0            0.0               0.0   \n",
       "4          No       No            0.0            0.0               0.0   \n",
       "\n",
       "   preparationtime order_accepted_time driver_accepted_time  \\\n",
       "0             45.0                 NaN                  NaN   \n",
       "1             45.0                 NaN                  NaN   \n",
       "2             50.0                 NaN                  NaN   \n",
       "3             45.0                 NaN                  NaN   \n",
       "4             50.0                 NaN                  NaN   \n",
       "\n",
       "  ready_for_pickup_time picked_up_time delivered_time        delivery_date  \\\n",
       "0                   NaN            NaN            NaN  2019-07-31 05:30:00   \n",
       "1                   NaN            NaN            NaN  2019-07-31 05:30:00   \n",
       "2                   NaN            NaN            NaN  2019-07-31 05:30:00   \n",
       "3                   NaN            NaN            NaN  2019-07-31 05:30:00   \n",
       "4                   NaN            NaN            NaN  2019-07-31 05:30:00   \n",
       "\n",
       "   vendor_id           created_at  LOCATION_NUMBER   gender  dob  \\\n",
       "0        105  2019-08-01 05:30:16                0     Male  NaN   \n",
       "1        294  2019-08-01 05:31:10                0  Unknown  NaN   \n",
       "2         83  2019-08-01 05:31:33                0  Unknown  NaN   \n",
       "3         90  2019-08-01 05:34:54                0     Male  NaN   \n",
       "4         83  2019-08-01 05:35:51                0     Male  NaN   \n",
       "\n",
       "  LOCATION_TYPE  latitude  longitude  latitude_vendor  longtitude_vendor  \\\n",
       "0         Other -0.132100 -78.575297        -0.967769           0.080839   \n",
       "1          Work -0.393396 -78.544417        -1.271979           0.028832   \n",
       "2         Other -1.072823 -78.464121        -0.927944           0.145900   \n",
       "3          Home -0.292713 -78.556316        -0.601096           0.095998   \n",
       "4          Work -0.231810 -78.563513        -0.927944           0.145900   \n",
       "\n",
       "  vendor_category_en  delivery_charge  \\\n",
       "0        Restaurants              0.0   \n",
       "1        Restaurants              0.0   \n",
       "2        Restaurants              0.7   \n",
       "3        Restaurants              0.0   \n",
       "4        Restaurants              0.7   \n",
       "\n",
       "                                 vendor_tag_name  \n",
       "0  American,Burgers,Free Delivery,Hot Dogs,Pasta  \n",
       "1  Burgers,Desserts,Free Delivery,Grills,Mexican  \n",
       "2               Breakfast,Desserts,Salads,Arabic  \n",
       "3       American,Burgers,Desserts,Mojitos ,Pasta  \n",
       "4               Breakfast,Desserts,Salads,Arabic  "
      ]
     },
     "execution_count": 3,
     "metadata": {},
     "output_type": "execute_result"
    }
   ],
   "source": [
    "data = pd.read_csv('order_clean_join_all.csv')\n",
    "data.head()"
   ]
  },
  {
   "cell_type": "code",
   "execution_count": 4,
   "metadata": {},
   "outputs": [
    {
     "name": "stderr",
     "output_type": "stream",
     "text": [
      "/var/folders/nr/2_l0dxkj7vxfbxy3c016j3s00000gn/T/ipykernel_19142/3161724848.py:1: DtypeWarning: Columns (14,15,16,17,18,19) have mixed types. Specify dtype option on import or set low_memory=False.\n",
      "  df = pd.read_csv('order_clean_join_all.csv')\n"
     ]
    }
   ],
   "source": [
    "df = pd.read_csv('order_clean_join_all.csv')"
   ]
  },
  {
   "cell_type": "code",
   "execution_count": 5,
   "metadata": {},
   "outputs": [
    {
     "data": {
      "text/plain": [
       "vendor_rating\n",
       "0.0    115171\n",
       "5.0     14212\n",
       "4.0      2748\n",
       "3.0      1426\n",
       "1.0      1029\n",
       "2.0       630\n",
       "Name: count, dtype: int64"
      ]
     },
     "execution_count": 5,
     "metadata": {},
     "output_type": "execute_result"
    }
   ],
   "source": [
    "data.vendor_rating.value_counts()"
   ]
  },
  {
   "cell_type": "code",
   "execution_count": 6,
   "metadata": {},
   "outputs": [
    {
     "data": {
      "text/plain": [
       "vendor_category_en\n",
       "Restaurants       120835\n",
       "Sweets & Bakes     14381\n",
       "Name: count, dtype: int64"
      ]
     },
     "execution_count": 6,
     "metadata": {},
     "output_type": "execute_result"
    }
   ],
   "source": [
    "data.vendor_category_en.value_counts()"
   ]
  },
  {
   "cell_type": "code",
   "execution_count": 7,
   "metadata": {},
   "outputs": [],
   "source": [
    "# set default on predicting rating = 1 first -> means visited\n",
    "data['rating'] = 1"
   ]
  },
  {
   "cell_type": "markdown",
   "metadata": {},
   "source": [
    "## Restaurant Recommendation"
   ]
  },
  {
   "cell_type": "code",
   "execution_count": 8,
   "metadata": {},
   "outputs": [
    {
     "data": {
      "text/plain": [
       "array([  1,   2,   4,  23,  10,   3,   6,   5,  13,  11,   7,   8,  15,\n",
       "         9,  12,  14,  20,  21,  17,  19,  16,  26,  22,  61,  24,  25,\n",
       "        29,  44,  18,  68,  35,  27,  30,  48,  33,  32,  28,  47,  34,\n",
       "       114,  49,  37,  31,  74,  40,  56,  59,  42,  38, 141,  41,  43])"
      ]
     },
     "execution_count": 8,
     "metadata": {},
     "output_type": "execute_result"
    }
   ],
   "source": [
    "# restaurants category\n",
    "restaurants_rating = data[data['vendor_category_en'] == 'Restaurants'][['customer_id', 'vendor_id', 'rating']]\n",
    "data_restaurant = restaurants_rating.groupby(['customer_id', 'vendor_id'], as_index=False)['rating'].sum()\n",
    "data_restaurant['rating'].unique()"
   ]
  },
  {
   "cell_type": "code",
   "execution_count": 9,
   "metadata": {},
   "outputs": [
    {
     "data": {
      "text/html": [
       "<div>\n",
       "<style scoped>\n",
       "    .dataframe tbody tr th:only-of-type {\n",
       "        vertical-align: middle;\n",
       "    }\n",
       "\n",
       "    .dataframe tbody tr th {\n",
       "        vertical-align: top;\n",
       "    }\n",
       "\n",
       "    .dataframe thead th {\n",
       "        text-align: right;\n",
       "    }\n",
       "</style>\n",
       "<table border=\"1\" class=\"dataframe\">\n",
       "  <thead>\n",
       "    <tr style=\"text-align: right;\">\n",
       "      <th></th>\n",
       "      <th>vendor_id</th>\n",
       "      <th>rating</th>\n",
       "    </tr>\n",
       "  </thead>\n",
       "  <tbody>\n",
       "    <tr>\n",
       "      <th>count</th>\n",
       "      <td>62861.000000</td>\n",
       "      <td>62861.000000</td>\n",
       "    </tr>\n",
       "    <tr>\n",
       "      <th>mean</th>\n",
       "      <td>261.461463</td>\n",
       "      <td>1.922257</td>\n",
       "    </tr>\n",
       "    <tr>\n",
       "      <th>std</th>\n",
       "      <td>246.384334</td>\n",
       "      <td>2.403714</td>\n",
       "    </tr>\n",
       "    <tr>\n",
       "      <th>min</th>\n",
       "      <td>4.000000</td>\n",
       "      <td>1.000000</td>\n",
       "    </tr>\n",
       "    <tr>\n",
       "      <th>25%</th>\n",
       "      <td>84.000000</td>\n",
       "      <td>1.000000</td>\n",
       "    </tr>\n",
       "    <tr>\n",
       "      <th>50%</th>\n",
       "      <td>160.000000</td>\n",
       "      <td>1.000000</td>\n",
       "    </tr>\n",
       "    <tr>\n",
       "      <th>75%</th>\n",
       "      <td>356.000000</td>\n",
       "      <td>2.000000</td>\n",
       "    </tr>\n",
       "    <tr>\n",
       "      <th>max</th>\n",
       "      <td>907.000000</td>\n",
       "      <td>141.000000</td>\n",
       "    </tr>\n",
       "  </tbody>\n",
       "</table>\n",
       "</div>"
      ],
      "text/plain": [
       "          vendor_id        rating\n",
       "count  62861.000000  62861.000000\n",
       "mean     261.461463      1.922257\n",
       "std      246.384334      2.403714\n",
       "min        4.000000      1.000000\n",
       "25%       84.000000      1.000000\n",
       "50%      160.000000      1.000000\n",
       "75%      356.000000      2.000000\n",
       "max      907.000000    141.000000"
      ]
     },
     "execution_count": 9,
     "metadata": {},
     "output_type": "execute_result"
    }
   ],
   "source": [
    "data_restaurant.describe()"
   ]
  },
  {
   "cell_type": "code",
   "execution_count": 10,
   "metadata": {},
   "outputs": [],
   "source": [
    "min_rating = data_restaurant['rating'].min()\n",
    "max_rating = data_restaurant['rating'].max()"
   ]
  },
  {
   "cell_type": "code",
   "execution_count": 11,
   "metadata": {},
   "outputs": [],
   "source": [
    "# Dataset Reader\n",
    "reader = Reader(rating_scale=(min_rating, max_rating))\n",
    "data = Dataset.load_from_df(data_restaurant[['customer_id', 'vendor_id', 'rating']], reader)"
   ]
  },
  {
   "cell_type": "markdown",
   "metadata": {},
   "source": [
    "### Try the Simple CF and do Fine-Tuning on it"
   ]
  },
  {
   "cell_type": "code",
   "execution_count": 12,
   "metadata": {},
   "outputs": [],
   "source": [
    "# user based recommender\n",
    "user_cf = KNNBasic(sim_options = {'name': 'pearson', 'user_based': True})\n",
    "\n",
    "# item-item\n",
    "item_cf = KNNBasic(sim_options= {'name': 'cosine', 'user_based': False})\n",
    "\n",
    "svd_cf = SVD()\n",
    "nmf_cf = NMF()\n",
    "svdpp_cf = SVDpp()"
   ]
  },
  {
   "cell_type": "code",
   "execution_count": 13,
   "metadata": {},
   "outputs": [],
   "source": [
    "# split into train test set\n",
    "train, test = train_test_split(data, test_size = 0.2, random_state = 42)"
   ]
  },
  {
   "cell_type": "code",
   "execution_count": 14,
   "metadata": {},
   "outputs": [
    {
     "name": "stdout",
     "output_type": "stream",
     "text": [
      "Computing the pearson similarity matrix...\n",
      "Done computing similarity matrix.\n",
      "Computing the cosine similarity matrix...\n",
      "Done computing similarity matrix.\n"
     ]
    },
    {
     "data": {
      "text/plain": [
       "<surprise.prediction_algorithms.matrix_factorization.SVDpp at 0x30b045250>"
      ]
     },
     "execution_count": 14,
     "metadata": {},
     "output_type": "execute_result"
    }
   ],
   "source": [
    "user_cf.fit(train)\n",
    "item_cf.fit(train)\n",
    "svd_cf.fit(train)\n",
    "nmf_cf.fit(train)\n",
    "svdpp_cf.fit(train)"
   ]
  },
  {
   "cell_type": "code",
   "execution_count": 15,
   "metadata": {},
   "outputs": [
    {
     "name": "stdout",
     "output_type": "stream",
     "text": [
      "User Based Model: RMSE: 2.8255232621517785, MAE: 1.366786360357639\n",
      "Item Based Model: RMSE: 2.812093982592366, MAE: 1.2996645946530971\n",
      "SVD Model: RMSE: 2.605520196730398, MAE: 1.1953611084050095\n",
      "NMF Model: RMSE: 2.7710178225266704, MAE: 1.1669981891987853\n",
      "SVD++ Model: RMSE: 2.6610824025519837, MAE: 1.3466213398607754\n"
     ]
    }
   ],
   "source": [
    "predictions = user_cf.test(test)\n",
    "print(f\"User Based Model: RMSE: {accuracy.rmse(predictions, verbose = False)}, MAE: {accuracy.mae(predictions, verbose = False)}\")\n",
    "\n",
    "predictions = item_cf.test(test)\n",
    "print(f\"Item Based Model: RMSE: {accuracy.rmse(predictions, verbose = False)}, MAE: {accuracy.mae(predictions, verbose = False)}\")\n",
    "\n",
    "predictions = svd_cf.test(test)\n",
    "print(f\"SVD Model: RMSE: {accuracy.rmse(predictions, verbose = False)}, MAE: {accuracy.mae(predictions, verbose = False)}\")\n",
    "\n",
    "predictions = nmf_cf.test(test)\n",
    "print(f\"NMF Model: RMSE: {accuracy.rmse(predictions, verbose = False)}, MAE: {accuracy.mae(predictions, verbose = False)}\")\n",
    "\n",
    "predictions = svdpp_cf.test(test)\n",
    "print(f\"SVD++ Model: RMSE: {accuracy.rmse(predictions, verbose = False)}, MAE: {accuracy.mae(predictions, verbose = False)}\")"
   ]
  },
  {
   "cell_type": "markdown",
   "metadata": {},
   "source": [
    "#### Fine-Tuning"
   ]
  },
  {
   "cell_type": "markdown",
   "metadata": {},
   "source": [
    "#### User Based Hyperparameter Tuning"
   ]
  },
  {
   "cell_type": "code",
   "execution_count": 37,
   "metadata": {},
   "outputs": [
    {
     "name": "stdout",
     "output_type": "stream",
     "text": [
      "Best params:  {'rmse': {'k': 200, 'min_k': 20, 'sim_options': {'name': 'pearson', 'user_based': True}}}\n",
      "Best RMSE:  {'rmse': 2.377278195795899}\n"
     ]
    }
   ],
   "source": [
    "# k: # of neighbors when generating a prediction\n",
    "# min_k: minimum number of neighbors to make a prediction\n",
    "# sim_options: how to calculate the distance? cosine or pearson\n",
    "\n",
    "# Set seed for reproducibility\n",
    "SEED = 42\n",
    "random.seed(SEED)\n",
    "np.random.seed(SEED)\n",
    "\n",
    "param_grid = {\n",
    "    'k': [100, 200, 300, 400, 500, 600, 700, 800],\n",
    "    'min_k': [10, 20, 40, 60, 80],\n",
    "    'sim_options': {\n",
    "        'name': ['pearson'],\n",
    "        'user_based': [True]\n",
    "    }\n",
    "}\n",
    "\n",
    "gs = GridSearchCV(KNNBasic, param_grid, measures=['rmse'], cv=3)\n",
    "\n",
    "# remove all the output here\n",
    "with contextlib.redirect_stdout(None):\n",
    "    gs.fit(data)\n",
    "\n",
    "print(\"Best params: \", gs.best_params)\n",
    "print(\"Best RMSE: \", gs.best_score)"
   ]
  },
  {
   "cell_type": "markdown",
   "metadata": {},
   "source": [
    "#### Item Based Hyperparameter Tuning"
   ]
  },
  {
   "cell_type": "code",
   "execution_count": 35,
   "metadata": {},
   "outputs": [
    {
     "name": "stdout",
     "output_type": "stream",
     "text": [
      "Best params:  {'rmse': {'k': 30, 'min_k': 10, 'sim_options': {'name': 'cosine', 'user_based': False}}}\n",
      "Bes RMSE:  {'rmse': 2.3979030636263388}\n"
     ]
    }
   ],
   "source": [
    "# same hyperparameter as the user-based fine tuning. the only difference is just the user_based = False\n",
    "\n",
    "param_grid = {\n",
    "    'k': [10, 20, 30, 40, 50, 60, 70, 80, 90],\n",
    "    'min_k': [5, 10, 20, 30, 40],\n",
    "    'sim_options': {\n",
    "        'name': ['cosine'],\n",
    "        'user_based': [False]\n",
    "    }\n",
    "}\n",
    "\n",
    "gs = GridSearchCV(KNNBasic, param_grid, measures = ['rmse'], cv = 3)\n",
    "\n",
    "with contextlib.redirect_stdout(None):\n",
    "    gs.fit(data)\n",
    "\n",
    "print(\"Best params: \", gs.best_params)\n",
    "print(\"Bes RMSE: \", gs.best_score)"
   ]
  },
  {
   "cell_type": "markdown",
   "metadata": {},
   "source": [
    "#### SVD Fine-Tuning"
   ]
  },
  {
   "cell_type": "code",
   "execution_count": 45,
   "metadata": {},
   "outputs": [
    {
     "name": "stdout",
     "output_type": "stream",
     "text": [
      "Best params:  {'rmse': {'n_factors': 100, 'n_epochs': 20, 'lr_all': 0.005, 'reg_all': 0.1}}\n",
      "Best RMSE:  {'rmse': 2.3467902672075636}\n"
     ]
    }
   ],
   "source": [
    "# n_factors: number of dimensions on the user item matrix. higher dimension means more complex, but there is risk to overfit\n",
    "# n_epochs: number of training iterations. too low may not identify the patterns\n",
    "# lr_all: how is the rate of the model to update the weights. too high, may jump from the optimal solution.\n",
    "# reg_all: regularization to prevent overfitting. \n",
    "\n",
    "# Set seed for reproducibility\n",
    "SEED = 42\n",
    "random.seed(SEED)\n",
    "np.random.seed(SEED)\n",
    "\n",
    "param_grid = {\n",
    "    'n_factors': [20, 50, 100],\n",
    "    'n_epochs': [10, 15, 20],\n",
    "    'lr_all': [0.001, 0.005, 0.01],\n",
    "    'reg_all': [0.02, 0.05, 0.1]\n",
    "}\n",
    "\n",
    "gs = GridSearchCV(SVD, param_grid, measures = ['rmse'], cv = 3)\n",
    "gs.fit(data)\n",
    "\n",
    "print(\"Best params: \", gs.best_params)\n",
    "print(\"Best RMSE: \", gs.best_score)"
   ]
  },
  {
   "cell_type": "markdown",
   "metadata": {},
   "source": [
    "#### NMF Fine Tuning"
   ]
  },
  {
   "cell_type": "code",
   "execution_count": 46,
   "metadata": {},
   "outputs": [
    {
     "name": "stdout",
     "output_type": "stream",
     "text": [
      "Best params:  {'rmse': {'n_factors': 50, 'n_epochs': 15, 'reg_pu': 0.1, 'reg_qi': 0.1}}\n",
      "Best RMSE:  {'rmse': 2.4523464728691344}\n"
     ]
    }
   ],
   "source": [
    "# lower value of n_factors for NMF than SVD because NFM can only handles positive values. this means fewer factors are make sense in this context\n",
    "# n_factors and n_epochs are the same parameter as the SVD\n",
    "# reg_pu: regularization for user factors\n",
    "# reg_qi: regularization for item factors\n",
    "\n",
    "# Set seed for reproducibility\n",
    "SEED = 42\n",
    "random.seed(SEED)\n",
    "np.random.seed(SEED)\n",
    "\n",
    "param_grid = {\n",
    "    'n_factors': [10, 20, 50],  \n",
    "    'n_epochs': [10, 15, 20], \n",
    "    'reg_pu': [0.002, 0.01, 0.1],  \n",
    "    'reg_qi': [0.002, 0.01, 0.1] \n",
    "}\n",
    "\n",
    "gs = GridSearchCV(NMF, param_grid, measures = ['rmse'], cv = 3)\n",
    "gs.fit(data)\n",
    "\n",
    "print(\"Best params: \", gs.best_params)\n",
    "print(\"Best RMSE: \", gs.best_score)"
   ]
  },
  {
   "cell_type": "markdown",
   "metadata": {},
   "source": [
    "#### SVD++ Fine-Tuning"
   ]
  },
  {
   "cell_type": "code",
   "execution_count": 47,
   "metadata": {},
   "outputs": [
    {
     "name": "stdout",
     "output_type": "stream",
     "text": [
      "Best params:  {'rmse': {'n_factors': 20, 'n_epochs': 10, 'lr_all': 0.002, 'reg_all': 0.05}}\n",
      "Best RMSE:  {'rmse': 2.343832079597537}\n"
     ]
    }
   ],
   "source": [
    "# Set seed for reproducibility\n",
    "SEED = 42\n",
    "random.seed(SEED)\n",
    "np.random.seed(SEED)\n",
    "\n",
    "# same parameter with SVD, but I reduced it here because it takes more time to run SVDpp. \n",
    "param_grid = {\n",
    "    'n_factors': [20, 50], \n",
    "    'n_epochs': [10, 15], \n",
    "    'lr_all': [0.002, 0.005],  \n",
    "    'reg_all': [0.02, 0.05]\n",
    "}\n",
    "\n",
    "gs = GridSearchCV(SVDpp, param_grid, measures = ['rmse'], cv = 3)\n",
    "gs.fit(data)\n",
    "\n",
    "print(\"Best params: \", gs.best_params)\n",
    "print(\"Best RMSE: \", gs.best_score)"
   ]
  },
  {
   "cell_type": "markdown",
   "metadata": {},
   "source": [
    "## Try Machine Learning Based Model"
   ]
  },
  {
   "cell_type": "code",
   "execution_count": 16,
   "metadata": {},
   "outputs": [],
   "source": [
    "customer_id = data_restaurant['customer_id'].astype(str).values\n",
    "vendor_id = data_restaurant['vendor_id'].astype(str).values\n",
    "rating = data_restaurant['rating'].values\n",
    "\n",
    "user_mapping = {str(user): idx for idx, user in enumerate(np.unique(customer_id))}\n",
    "vendor_mapping = {str(vendor): idx for idx, vendor in enumerate(np.unique(vendor_id))}\n",
    "\n",
    "user_ids_encoded = np.array([user_mapping[str(user)] for user in customer_id], dtype=np.int32)\n",
    "vendor_ids_encoded = np.array([vendor_mapping[str(vendor)] for vendor in vendor_id], dtype=np.int32)\n",
    "\n",
    "X_train_user, X_test_user, X_train_vendor, X_test_vendor, y_train, y_test = train_test_split_sklearn(\n",
    "    user_ids_encoded, vendor_ids_encoded, rating, test_size=0.3, random_state=42\n",
    ")"
   ]
  },
  {
   "cell_type": "code",
   "execution_count": 17,
   "metadata": {},
   "outputs": [],
   "source": [
    "n_users = len(user_mapping)\n",
    "n_vendors = len(vendor_mapping)\n",
    "embedding_size = 100  \n",
    "\n",
    "user_input = Input(shape=(1,), name='user_input')\n",
    "vendor_input = Input(shape=(1,), name='vendor_input')\n",
    "\n",
    "user_embedding = Embedding(input_dim=n_users, output_dim=embedding_size)(user_input)\n",
    "vendor_embedding = Embedding(input_dim=n_vendors, output_dim=embedding_size)(vendor_input)\n",
    "\n",
    "user_embedding = Flatten()(user_embedding)\n",
    "vendor_embedding = Flatten()(vendor_embedding)\n",
    "\n",
    "merged = Concatenate()([user_embedding, vendor_embedding])"
   ]
  },
  {
   "cell_type": "code",
   "execution_count": 18,
   "metadata": {},
   "outputs": [
    {
     "name": "stdout",
     "output_type": "stream",
     "text": [
      "Epoch 1/20\n",
      "\u001b[1m1376/1376\u001b[0m \u001b[32m━━━━━━━━━━━━━━━━━━━━\u001b[0m\u001b[37m\u001b[0m \u001b[1m6s\u001b[0m 4ms/step - loss: 6.6501 - val_loss: 6.2205\n",
      "Epoch 2/20\n",
      "\u001b[1m1376/1376\u001b[0m \u001b[32m━━━━━━━━━━━━━━━━━━━━\u001b[0m\u001b[37m\u001b[0m \u001b[1m5s\u001b[0m 4ms/step - loss: 4.3497 - val_loss: 6.2151\n",
      "Epoch 3/20\n",
      "\u001b[1m1376/1376\u001b[0m \u001b[32m━━━━━━━━━━━━━━━━━━━━\u001b[0m\u001b[37m\u001b[0m \u001b[1m5s\u001b[0m 4ms/step - loss: 4.3356 - val_loss: 6.5973\n",
      "Epoch 4/20\n",
      "\u001b[1m1376/1376\u001b[0m \u001b[32m━━━━━━━━━━━━━━━━━━━━\u001b[0m\u001b[37m\u001b[0m \u001b[1m6s\u001b[0m 4ms/step - loss: 4.2276 - val_loss: 6.6728\n",
      "Epoch 5/20\n",
      "\u001b[1m1376/1376\u001b[0m \u001b[32m━━━━━━━━━━━━━━━━━━━━\u001b[0m\u001b[37m\u001b[0m \u001b[1m6s\u001b[0m 4ms/step - loss: 4.6254 - val_loss: 6.8292\n",
      "Epoch 6/20\n",
      "\u001b[1m1376/1376\u001b[0m \u001b[32m━━━━━━━━━━━━━━━━━━━━\u001b[0m\u001b[37m\u001b[0m \u001b[1m5s\u001b[0m 4ms/step - loss: 3.2128 - val_loss: 7.5036\n",
      "Epoch 7/20\n",
      "\u001b[1m1376/1376\u001b[0m \u001b[32m━━━━━━━━━━━━━━━━━━━━\u001b[0m\u001b[37m\u001b[0m \u001b[1m5s\u001b[0m 4ms/step - loss: 2.8993 - val_loss: 8.8479\n",
      "Epoch 8/20\n",
      "\u001b[1m1376/1376\u001b[0m \u001b[32m━━━━━━━━━━━━━━━━━━━━\u001b[0m\u001b[37m\u001b[0m \u001b[1m5s\u001b[0m 4ms/step - loss: 3.2793 - val_loss: 7.7295\n",
      "Epoch 9/20\n",
      "\u001b[1m1376/1376\u001b[0m \u001b[32m━━━━━━━━━━━━━━━━━━━━\u001b[0m\u001b[37m\u001b[0m \u001b[1m5s\u001b[0m 4ms/step - loss: 2.9436 - val_loss: 8.8333\n",
      "Epoch 10/20\n",
      "\u001b[1m1376/1376\u001b[0m \u001b[32m━━━━━━━━━━━━━━━━━━━━\u001b[0m\u001b[37m\u001b[0m \u001b[1m6s\u001b[0m 4ms/step - loss: 3.0119 - val_loss: 7.5130\n",
      "Epoch 11/20\n",
      "\u001b[1m1376/1376\u001b[0m \u001b[32m━━━━━━━━━━━━━━━━━━━━\u001b[0m\u001b[37m\u001b[0m \u001b[1m5s\u001b[0m 4ms/step - loss: 2.7369 - val_loss: 9.8785\n",
      "Epoch 12/20\n",
      "\u001b[1m1376/1376\u001b[0m \u001b[32m━━━━━━━━━━━━━━━━━━━━\u001b[0m\u001b[37m\u001b[0m \u001b[1m5s\u001b[0m 4ms/step - loss: 3.2890 - val_loss: 7.7825\n",
      "Epoch 13/20\n",
      "\u001b[1m1376/1376\u001b[0m \u001b[32m━━━━━━━━━━━━━━━━━━━━\u001b[0m\u001b[37m\u001b[0m \u001b[1m5s\u001b[0m 4ms/step - loss: 2.6443 - val_loss: 8.6311\n",
      "Epoch 14/20\n",
      "\u001b[1m1376/1376\u001b[0m \u001b[32m━━━━━━━━━━━━━━━━━━━━\u001b[0m\u001b[37m\u001b[0m \u001b[1m5s\u001b[0m 4ms/step - loss: 2.8246 - val_loss: 8.0799\n",
      "Epoch 15/20\n",
      "\u001b[1m1376/1376\u001b[0m \u001b[32m━━━━━━━━━━━━━━━━━━━━\u001b[0m\u001b[37m\u001b[0m \u001b[1m5s\u001b[0m 4ms/step - loss: 3.1768 - val_loss: 7.5453\n",
      "Epoch 16/20\n",
      "\u001b[1m1376/1376\u001b[0m \u001b[32m━━━━━━━━━━━━━━━━━━━━\u001b[0m\u001b[37m\u001b[0m \u001b[1m5s\u001b[0m 4ms/step - loss: 2.6483 - val_loss: 8.5466\n",
      "Epoch 17/20\n",
      "\u001b[1m1376/1376\u001b[0m \u001b[32m━━━━━━━━━━━━━━━━━━━━\u001b[0m\u001b[37m\u001b[0m \u001b[1m5s\u001b[0m 4ms/step - loss: 2.7183 - val_loss: 8.9346\n",
      "Epoch 18/20\n",
      "\u001b[1m1376/1376\u001b[0m \u001b[32m━━━━━━━━━━━━━━━━━━━━\u001b[0m\u001b[37m\u001b[0m \u001b[1m5s\u001b[0m 4ms/step - loss: 2.8577 - val_loss: 8.5168\n",
      "Epoch 19/20\n",
      "\u001b[1m1376/1376\u001b[0m \u001b[32m━━━━━━━━━━━━━━━━━━━━\u001b[0m\u001b[37m\u001b[0m \u001b[1m5s\u001b[0m 4ms/step - loss: 2.4241 - val_loss: 8.6987\n",
      "Epoch 20/20\n",
      "\u001b[1m1376/1376\u001b[0m \u001b[32m━━━━━━━━━━━━━━━━━━━━\u001b[0m\u001b[37m\u001b[0m \u001b[1m5s\u001b[0m 4ms/step - loss: 2.5491 - val_loss: 8.3736\n",
      "\u001b[1m590/590\u001b[0m \u001b[32m━━━━━━━━━━━━━━━━━━━━\u001b[0m\u001b[37m\u001b[0m \u001b[1m0s\u001b[0m 339us/step - loss: 8.2308\n",
      "Test Loss: 8.37360954284668\n"
     ]
    }
   ],
   "source": [
    "# Fully connected layers with Dropout and L2 Regularization\n",
    "x = Dense(128, activation='relu', kernel_regularizer=l2(0.01))(merged)\n",
    "x = Dropout(0.4)(x)  \n",
    "x = Dense(64, activation='relu', kernel_regularizer=l2(0.01))(x)\n",
    "x = Dropout(0.4)(x)  \n",
    "x = Dense(32, activation='relu', kernel_regularizer=l2(0.01))(x)\n",
    "output = Dense(1)(x)\n",
    "\n",
    "# Create the model\n",
    "model = Model(inputs=[user_input, vendor_input], outputs=output)\n",
    "\n",
    "# Compile the model\n",
    "model.compile(optimizer=Adam(), loss='mse')\n",
    "\n",
    "# Train the model\n",
    "history = model.fit([X_train_user, X_train_vendor], y_train, epochs=20, batch_size=32, validation_data=([X_test_user, X_test_vendor], y_test), verbose =1)\n",
    "\n",
    "# Evaluate the model\n",
    "loss = model.evaluate([X_test_user, X_test_vendor], y_test)\n",
    "print(f\"Test Loss: {loss}\")"
   ]
  },
  {
   "cell_type": "code",
   "execution_count": 19,
   "metadata": {},
   "outputs": [
    {
     "data": {
      "image/png": "[encoded data removed]",
      "text/plain": [
       "<Figure size 800x600 with 1 Axes>"
      ]
     },
     "metadata": {},
     "output_type": "display_data"
    }
   ],
   "source": [
    "# Plot the loss\n",
    "plt.figure(figsize=(8, 6))\n",
    "plt.plot(history.history['loss'], label='Training Loss')\n",
    "plt.plot(history.history['val_loss'], label='Validation Loss')\n",
    "plt.title('Model Loss During Training')\n",
    "plt.xlabel('Epochs')\n",
    "plt.ylabel('Loss')\n",
    "plt.legend()\n",
    "plt.show()"
   ]
  },
  {
   "cell_type": "markdown",
   "metadata": {},
   "source": [
    "It shows overfitting, it fluctuates the validation loss on the 6th epochs."
   ]
  },
  {
   "cell_type": "code",
   "execution_count": 43,
   "metadata": {},
   "outputs": [
    {
     "name": "stdout",
     "output_type": "stream",
     "text": [
      "Epoch 1/20\n",
      "\u001b[1m1376/1376\u001b[0m \u001b[32m━━━━━━━━━━━━━━━━━━━━\u001b[0m\u001b[37m\u001b[0m \u001b[1m7s\u001b[0m 4ms/step - loss: 12.3297 - val_loss: 9.3596 - learning_rate: 5.0000e-04\n",
      "Epoch 2/20\n",
      "\u001b[1m1376/1376\u001b[0m \u001b[32m━━━━━━━━━━━━━━━━━━━━\u001b[0m\u001b[37m\u001b[0m \u001b[1m5s\u001b[0m 4ms/step - loss: 7.5251 - val_loss: 9.0864 - learning_rate: 5.0000e-04\n",
      "Epoch 3/20\n",
      "\u001b[1m1376/1376\u001b[0m \u001b[32m━━━━━━━━━━━━━━━━━━━━\u001b[0m\u001b[37m\u001b[0m \u001b[1m5s\u001b[0m 4ms/step - loss: 5.8946 - val_loss: 8.6034 - learning_rate: 5.0000e-04\n",
      "Epoch 4/20\n",
      "\u001b[1m1376/1376\u001b[0m \u001b[32m━━━━━━━━━━━━━━━━━━━━\u001b[0m\u001b[37m\u001b[0m \u001b[1m5s\u001b[0m 4ms/step - loss: 5.8626 - val_loss: 8.2039 - learning_rate: 5.0000e-04\n",
      "Epoch 5/20\n",
      "\u001b[1m1376/1376\u001b[0m \u001b[32m━━━━━━━━━━━━━━━━━━━━\u001b[0m\u001b[37m\u001b[0m \u001b[1m5s\u001b[0m 4ms/step - loss: 5.2541 - val_loss: 8.3040 - learning_rate: 5.0000e-04\n",
      "Epoch 6/20\n",
      "\u001b[1m1376/1376\u001b[0m \u001b[32m━━━━━━━━━━━━━━━━━━━━\u001b[0m\u001b[37m\u001b[0m \u001b[1m5s\u001b[0m 4ms/step - loss: 4.6857 - val_loss: 8.3478 - learning_rate: 5.0000e-04\n",
      "Epoch 7/20\n",
      "\u001b[1m1371/1376\u001b[0m \u001b[32m━━━━━━━━━━━━━━━━━━━\u001b[0m\u001b[37m━\u001b[0m \u001b[1m0s\u001b[0m 4ms/step - loss: 3.8424\n",
      "Epoch 7: ReduceLROnPlateau reducing learning rate to 0.0002500000118743628.\n",
      "\u001b[1m1376/1376\u001b[0m \u001b[32m━━━━━━━━━━━━━━━━━━━━\u001b[0m\u001b[37m\u001b[0m \u001b[1m5s\u001b[0m 4ms/step - loss: 3.8429 - val_loss: 8.2267 - learning_rate: 5.0000e-04\n",
      "Epoch 8/20\n",
      "\u001b[1m1376/1376\u001b[0m \u001b[32m━━━━━━━━━━━━━━━━━━━━\u001b[0m\u001b[37m\u001b[0m \u001b[1m5s\u001b[0m 4ms/step - loss: 3.7893 - val_loss: 7.8121 - learning_rate: 2.5000e-04\n",
      "Epoch 9/20\n",
      "\u001b[1m1376/1376\u001b[0m \u001b[32m━━━━━━━━━━━━━━━━━━━━\u001b[0m\u001b[37m\u001b[0m \u001b[1m5s\u001b[0m 4ms/step - loss: 4.1126 - val_loss: 8.0373 - learning_rate: 2.5000e-04\n",
      "Epoch 10/20\n",
      "\u001b[1m1376/1376\u001b[0m \u001b[32m━━━━━━━━━━━━━━━━━━━━\u001b[0m\u001b[37m\u001b[0m \u001b[1m5s\u001b[0m 4ms/step - loss: 3.6376 - val_loss: 7.9889 - learning_rate: 2.5000e-04\n",
      "Epoch 11/20\n",
      "\u001b[1m1371/1376\u001b[0m \u001b[32m━━━━━━━━━━━━━━━━━━━\u001b[0m\u001b[37m━\u001b[0m \u001b[1m0s\u001b[0m 4ms/step - loss: 3.4914\n",
      "Epoch 11: ReduceLROnPlateau reducing learning rate to 0.0001250000059371814.\n",
      "\u001b[1m1376/1376\u001b[0m \u001b[32m━━━━━━━━━━━━━━━━━━━━\u001b[0m\u001b[37m\u001b[0m \u001b[1m5s\u001b[0m 4ms/step - loss: 3.4915 - val_loss: 8.3036 - learning_rate: 2.5000e-04\n",
      "Epoch 12/20\n",
      "\u001b[1m1376/1376\u001b[0m \u001b[32m━━━━━━━━━━━━━━━━━━━━\u001b[0m\u001b[37m\u001b[0m \u001b[1m5s\u001b[0m 4ms/step - loss: 3.1989 - val_loss: 7.7643 - learning_rate: 1.2500e-04\n",
      "Epoch 13/20\n",
      "\u001b[1m1376/1376\u001b[0m \u001b[32m━━━━━━━━━━━━━━━━━━━━\u001b[0m\u001b[37m\u001b[0m \u001b[1m5s\u001b[0m 4ms/step - loss: 3.8191 - val_loss: 7.7365 - learning_rate: 1.2500e-04\n",
      "Epoch 14/20\n",
      "\u001b[1m1376/1376\u001b[0m \u001b[32m━━━━━━━━━━━━━━━━━━━━\u001b[0m\u001b[37m\u001b[0m \u001b[1m5s\u001b[0m 4ms/step - loss: 3.1929 - val_loss: 8.3024 - learning_rate: 1.2500e-04\n",
      "Epoch 15/20\n",
      "\u001b[1m1376/1376\u001b[0m \u001b[32m━━━━━━━━━━━━━━━━━━━━\u001b[0m\u001b[37m\u001b[0m \u001b[1m5s\u001b[0m 4ms/step - loss: 3.0065 - val_loss: 8.2022 - learning_rate: 1.2500e-04\n",
      "Epoch 16/20\n",
      "\u001b[1m1371/1376\u001b[0m \u001b[32m━━━━━━━━━━━━━━━━━━━\u001b[0m\u001b[37m━\u001b[0m \u001b[1m0s\u001b[0m 4ms/step - loss: 3.1179\n",
      "Epoch 16: ReduceLROnPlateau reducing learning rate to 6.25000029685907e-05.\n",
      "\u001b[1m1376/1376\u001b[0m \u001b[32m━━━━━━━━━━━━━━━━━━━━\u001b[0m\u001b[37m\u001b[0m \u001b[1m5s\u001b[0m 4ms/step - loss: 3.1188 - val_loss: 8.2148 - learning_rate: 1.2500e-04\n",
      "Epoch 17/20\n",
      "\u001b[1m1376/1376\u001b[0m \u001b[32m━━━━━━━━━━━━━━━━━━━━\u001b[0m\u001b[37m\u001b[0m \u001b[1m5s\u001b[0m 4ms/step - loss: 3.0950 - val_loss: 8.8082 - learning_rate: 6.2500e-05\n",
      "Epoch 18/20\n",
      "\u001b[1m1376/1376\u001b[0m \u001b[32m━━━━━━━━━━━━━━━━━━━━\u001b[0m\u001b[37m\u001b[0m \u001b[1m5s\u001b[0m 4ms/step - loss: 3.6510 - val_loss: 8.3171 - learning_rate: 6.2500e-05\n",
      "\u001b[1m590/590\u001b[0m \u001b[32m━━━━━━━━━━━━━━━━━━━━\u001b[0m\u001b[37m\u001b[0m \u001b[1m0s\u001b[0m 316us/step - loss: 7.5462\n",
      "Test Loss: 7.736545085906982\n"
     ]
    }
   ],
   "source": [
    "# Fully connected layers with Dropout and L2 Regularization\n",
    "x = Dense(64, activation='relu', kernel_regularizer=l2(0.02))(merged)\n",
    "x = BatchNormalization()(x)\n",
    "x = Dropout(0.6)(x)  \n",
    "\n",
    "x = Dense(32, activation='relu', kernel_regularizer=l2(0.02))(x)\n",
    "x = BatchNormalization()(x)\n",
    "x = Dropout(0.6)(x)  \n",
    "\n",
    "x = Dense(16, activation='relu', kernel_regularizer=l2(0.02))(x)\n",
    "x = BatchNormalization()(x)\n",
    "x = Dropout(0.5)(x)\n",
    "output = Dense(1)(x)\n",
    "\n",
    "# Create the model\n",
    "model = Model(inputs=[user_input, vendor_input], outputs=output)\n",
    "\n",
    "# Compile the model\n",
    "model.compile(optimizer=Adam(learning_rate=0.0005), loss='mse')\n",
    "\n",
    "early_stopping = EarlyStopping(monitor='val_loss', patience=5, restore_best_weights=True)\n",
    "lr_scheduler = ReduceLROnPlateau(monitor='val_loss', factor=0.5, patience=3, verbose=1)\n",
    "\n",
    "# Train the model\n",
    "history = model.fit([X_train_user, X_train_vendor], y_train, epochs=20, batch_size=32, validation_data=([X_test_user, X_test_vendor], y_test), callbacks=[early_stopping, lr_scheduler], verbose =1)\n",
    "\n",
    "# Evaluate the model\n",
    "loss = model.evaluate([X_test_user, X_test_vendor], y_test)\n",
    "print(f\"Test Loss: {loss}\")"
   ]
  },
  {
   "cell_type": "code",
   "execution_count": 44,
   "metadata": {},
   "outputs": [
    {
     "data": {
      "image/png": "[encoded data removed]",
      "text/plain": [
       "<Figure size 800x600 with 1 Axes>"
      ]
     },
     "metadata": {},
     "output_type": "display_data"
    }
   ],
   "source": [
    "# Plot the loss\n",
    "plt.figure(figsize=(8, 6))\n",
    "plt.plot(history.history['loss'], label='Training Loss')\n",
    "plt.plot(history.history['val_loss'], label='Validation Loss')\n",
    "plt.title('Model Loss During Training')\n",
    "plt.xlabel('Epochs')\n",
    "plt.ylabel('Loss')\n",
    "plt.legend()\n",
    "plt.show()"
   ]
  },
  {
   "cell_type": "code",
   "execution_count": 45,
   "metadata": {},
   "outputs": [
    {
     "name": "stdout",
     "output_type": "stream",
     "text": [
      "Epoch 1/20\n",
      "\u001b[1m688/688\u001b[0m \u001b[32m━━━━━━━━━━━━━━━━━━━━\u001b[0m\u001b[37m\u001b[0m \u001b[1m4s\u001b[0m 5ms/step - loss: 11.1022 - val_loss: 9.0589 - learning_rate: 1.0000e-04\n",
      "Epoch 2/20\n",
      "\u001b[1m688/688\u001b[0m \u001b[32m━━━━━━━━━━━━━━━━━━━━\u001b[0m\u001b[37m\u001b[0m \u001b[1m3s\u001b[0m 4ms/step - loss: 6.4117 - val_loss: 7.6008 - learning_rate: 1.0000e-04\n",
      "Epoch 3/20\n",
      "\u001b[1m688/688\u001b[0m \u001b[32m━━━━━━━━━━━━━━━━━━━━\u001b[0m\u001b[37m\u001b[0m \u001b[1m3s\u001b[0m 4ms/step - loss: 4.7929 - val_loss: 7.1952 - learning_rate: 1.0000e-04\n",
      "Epoch 4/20\n",
      "\u001b[1m688/688\u001b[0m \u001b[32m━━━━━━━━━━━━━━━━━━━━\u001b[0m\u001b[37m\u001b[0m \u001b[1m3s\u001b[0m 4ms/step - loss: 4.4934 - val_loss: 7.0368 - learning_rate: 1.0000e-04\n",
      "Epoch 5/20\n",
      "\u001b[1m688/688\u001b[0m \u001b[32m━━━━━━━━━━━━━━━━━━━━\u001b[0m\u001b[37m\u001b[0m \u001b[1m3s\u001b[0m 4ms/step - loss: 3.2835 - val_loss: 7.0940 - learning_rate: 1.0000e-04\n",
      "Epoch 6/20\n",
      "\u001b[1m688/688\u001b[0m \u001b[32m━━━━━━━━━━━━━━━━━━━━\u001b[0m\u001b[37m\u001b[0m \u001b[1m3s\u001b[0m 4ms/step - loss: 3.8042 - val_loss: 7.1506 - learning_rate: 1.0000e-04\n",
      "Epoch 7/20\n",
      "\u001b[1m678/688\u001b[0m \u001b[32m━━━━━━━━━━━━━━━━━━━\u001b[0m\u001b[37m━\u001b[0m \u001b[1m0s\u001b[0m 4ms/step - loss: 3.5862\n",
      "Epoch 7: ReduceLROnPlateau reducing learning rate to 4.999999873689376e-05.\n",
      "\u001b[1m688/688\u001b[0m \u001b[32m━━━━━━━━━━━━━━━━━━━━\u001b[0m\u001b[37m\u001b[0m \u001b[1m3s\u001b[0m 4ms/step - loss: 3.5881 - val_loss: 7.2072 - learning_rate: 1.0000e-04\n",
      "Epoch 8/20\n",
      "\u001b[1m688/688\u001b[0m \u001b[32m━━━━━━━━━━━━━━━━━━━━\u001b[0m\u001b[37m\u001b[0m \u001b[1m3s\u001b[0m 4ms/step - loss: 3.2836 - val_loss: 7.2006 - learning_rate: 5.0000e-05\n",
      "Epoch 9/20\n",
      "\u001b[1m688/688\u001b[0m \u001b[32m━━━━━━━━━━━━━━━━━━━━\u001b[0m\u001b[37m\u001b[0m \u001b[1m3s\u001b[0m 4ms/step - loss: 2.8581 - val_loss: 7.2145 - learning_rate: 5.0000e-05\n",
      "\u001b[1m590/590\u001b[0m \u001b[32m━━━━━━━━━━━━━━━━━━━━\u001b[0m\u001b[37m\u001b[0m \u001b[1m0s\u001b[0m 351us/step - loss: 6.8494\n",
      "Test Loss: 7.03682279586792\n"
     ]
    }
   ],
   "source": [
    "x = Dense(32, kernel_regularizer=l2(0.0005))(merged)\n",
    "x = BatchNormalization()(x)\n",
    "x = LeakyReLU(alpha=0.1)(x)\n",
    "x = Dropout(0.2)(x)\n",
    "\n",
    "x = Dense(16, kernel_regularizer=l2(0.0005))(x)\n",
    "x = BatchNormalization()(x)\n",
    "x = LeakyReLU(alpha=0.1)(x)\n",
    "x = Dropout(0.3)(x)\n",
    "\n",
    "output = Dense(1)(x)\n",
    "\n",
    "# Create the model\n",
    "model = Model(inputs=[user_input, vendor_input], outputs=output)\n",
    "\n",
    "# Compile with gradient clipping\n",
    "optimizer = Adam(learning_rate=0.0001, clipnorm=1.0)\n",
    "model.compile(optimizer=optimizer, loss='mse')\n",
    "\n",
    "# Training callbacks\n",
    "early_stopping = EarlyStopping(monitor='val_loss', patience=5, restore_best_weights=True)\n",
    "lr_scheduler = ReduceLROnPlateau(monitor='val_loss', factor=0.5, patience=3, verbose=1)\n",
    "\n",
    "# Train the model with proper validation split\n",
    "history = model.fit(\n",
    "    [X_train_user, X_train_vendor], \n",
    "    y_train, \n",
    "    epochs=20, \n",
    "    batch_size=64, \n",
    "    validation_data=([X_test_user, X_test_vendor], y_test),\n",
    "    callbacks=[early_stopping, lr_scheduler], \n",
    "    verbose=1)\n",
    "\n",
    "# Final evaluation on test set\n",
    "loss = model.evaluate([X_test_user, X_test_vendor], y_test)\n",
    "print(f\"Test Loss: {loss}\")"
   ]
  },
  {
   "cell_type": "code",
   "execution_count": 46,
   "metadata": {},
   "outputs": [
    {
     "data": {
      "image/png": "[encoded data removed]",
      "text/plain": [
       "<Figure size 800x600 with 1 Axes>"
      ]
     },
     "metadata": {},
     "output_type": "display_data"
    }
   ],
   "source": [
    "# Plot the loss\n",
    "plt.figure(figsize=(8, 6))\n",
    "plt.plot(history.history['loss'], label='Training Loss')\n",
    "plt.plot(history.history['val_loss'], label='Validation Loss')\n",
    "plt.title('Model Loss During Training')\n",
    "plt.xlabel('Epochs')\n",
    "plt.ylabel('Loss')\n",
    "plt.legend()\n",
    "plt.show()"
   ]
  },
  {
   "cell_type": "code",
   "execution_count": 47,
   "metadata": {},
   "outputs": [
    {
     "name": "stderr",
     "output_type": "stream",
     "text": [
      "WARNING:absl:You are saving your model as an HDF5 file via `model.save()` or `keras.saving.save_model(model)`. This file format is considered legacy. We recommend using instead the native Keras format, e.g. `model.save('my_model.keras')` or `keras.saving.save_model(model, 'my_model.keras')`. \n"
     ]
    }
   ],
   "source": [
    "model.save(\"deep_learning_model_recom.h5\")"
   ]
  },
  {
   "cell_type": "markdown",
   "metadata": {},
   "source": [
    "## Train-Test Each Model"
   ]
  },
  {
   "cell_type": "code",
   "execution_count": 48,
   "metadata": {},
   "outputs": [
    {
     "name": "stdout",
     "output_type": "stream",
     "text": [
      "Computing the pearson similarity matrix...\n",
      "Done computing similarity matrix.\n",
      "Computing the cosine similarity matrix...\n",
      "Done computing similarity matrix.\n"
     ]
    },
    {
     "data": {
      "text/plain": [
       "<surprise.prediction_algorithms.matrix_factorization.SVDpp at 0x361d5bd40>"
      ]
     },
     "execution_count": 48,
     "metadata": {},
     "output_type": "execute_result"
    }
   ],
   "source": [
    "# create a model based on the best parameter based on the fine-tuning\n",
    "user_tuned = KNNBasic(sim_options = {'k': 200, 'min_k': 20, 'name': 'pearson', 'user_based': True})\n",
    "item_tuned = KNNBasic(sim_options = {'k': 30, 'min_k': 10, 'name': 'cosine', 'user_based': False})\n",
    "svd_tuned = SVD(n_factors = 100, n_epochs = 20, lr_all = 0.005, reg_all = 0.1)\n",
    "nmf_tuned = NMF(n_factors = 50, n_epochs = 15, reg_pu = 0.1, reg_qi = 0.1)\n",
    "svdpp_tuned = SVDpp(n_factors = 20, n_epochs = 10, lr_all = 0.002, reg_all = 0.05)\n",
    "\n",
    "user_tuned.fit(train)\n",
    "item_tuned.fit(train)\n",
    "svd_tuned.fit(train)\n",
    "nmf_tuned.fit(train)\n",
    "svdpp_tuned.fit(train)"
   ]
  },
  {
   "cell_type": "code",
   "execution_count": 49,
   "metadata": {},
   "outputs": [
    {
     "name": "stdout",
     "output_type": "stream",
     "text": [
      "User Based Model: RMSE: 2.8255232621517785, MAE: 1.366786360357639\n",
      "Item Based Model: RMSE: 2.812093982592366, MAE: 1.2996645946530971\n",
      "SVD Model: RMSE: 2.5821744027799642, MAE: 1.1496339928388302\n",
      "NMF Model: RMSE: 2.6900753361707066, MAE: 1.09114083820798\n",
      "SVD++ Model: RMSE: 2.6056020161441955, MAE: 1.2047649043420383\n"
     ]
    }
   ],
   "source": [
    "# predict the test set from a given model\n",
    "predictions = user_tuned.test(test)\n",
    "print(f\"User Based Model: RMSE: {accuracy.rmse(predictions, verbose = False)}, MAE: {accuracy.mae(predictions, verbose = False)}\")\n",
    "\n",
    "predictions = item_tuned.test(test)\n",
    "print(f\"Item Based Model: RMSE: {accuracy.rmse(predictions, verbose = False)}, MAE: {accuracy.mae(predictions, verbose = False)}\")\n",
    "\n",
    "predictions = svd_tuned.test(test)\n",
    "print(f\"SVD Model: RMSE: {accuracy.rmse(predictions, verbose = False)}, MAE: {accuracy.mae(predictions, verbose = False)}\")\n",
    "\n",
    "predictions = nmf_tuned.test(test)\n",
    "print(f\"NMF Model: RMSE: {accuracy.rmse(predictions, verbose = False)}, MAE: {accuracy.mae(predictions, verbose = False)}\")\n",
    "\n",
    "predictions = svdpp_tuned.test(test)\n",
    "print(f\"SVD++ Model: RMSE: {accuracy.rmse(predictions, verbose = False)}, MAE: {accuracy.mae(predictions, verbose = False)}\")"
   ]
  },
  {
   "cell_type": "code",
   "execution_count": 50,
   "metadata": {},
   "outputs": [
    {
     "name": "stderr",
     "output_type": "stream",
     "text": [
      "WARNING:absl:Compiled the loaded model, but the compiled metrics have yet to be built. `model.compile_metrics` will be empty until you train or evaluate the model.\n"
     ]
    },
    {
     "name": "stdout",
     "output_type": "stream",
     "text": [
      "RMSE: 3.0697, MAE: 2.3759\n"
     ]
    }
   ],
   "source": [
    "from tensorflow.keras.models import load_model\n",
    "from sklearn.metrics import mean_squared_error, mean_absolute_error\n",
    "from tensorflow.keras.losses import MeanSquaredError\n",
    "from sklearn.metrics import root_mean_squared_error\n",
    "\n",
    "deep_learning_model = load_model(\"deep_learning_model_recom.h5\", custom_objects={\"mse\": MeanSquaredError()})\n",
    "\n",
    "X_test_user_encoded = np.array([user_mapping.get(str(user), -1) for user in X_test_user], dtype=np.int32)\n",
    "X_test_vendor_encoded = np.array([vendor_mapping.get(str(vendor), -1) for vendor in X_test_vendor], dtype=np.int32)\n",
    "\n",
    "X_test = [X_test_user_encoded.reshape(-1, 1), X_test_vendor_encoded.reshape(-1, 1)]\n",
    "\n",
    "y_pred_dl = deep_learning_model.predict(X_test, verbose=0).flatten()\n",
    "\n",
    "rmse_dl = root_mean_squared_error(y_test, y_pred_dl)\n",
    "mae_dl = mean_absolute_error(y_test, y_pred_dl)\n",
    "\n",
    "print(f\"RMSE: {rmse_dl:.4f}, MAE: {mae_dl:.4f}\")"
   ]
  },
  {
   "cell_type": "markdown",
   "metadata": {},
   "source": [
    "## Try Hybrid Model"
   ]
  },
  {
   "cell_type": "code",
   "execution_count": 51,
   "metadata": {},
   "outputs": [
    {
     "data": {
      "text/html": [
       "<img src=\"weighted_model.png\"/>"
      ],
      "text/plain": [
       "<IPython.core.display.Image object>"
      ]
     },
     "execution_count": 51,
     "metadata": {},
     "output_type": "execute_result"
    }
   ],
   "source": [
    "from IPython.display import Image \n",
    "Image(url=\"weighted_model.png\")"
   ]
  },
  {
   "cell_type": "markdown",
   "metadata": {},
   "source": [
    "### Hybrid Model of SVD and SVD++"
   ]
  },
  {
   "cell_type": "code",
   "execution_count": 52,
   "metadata": {},
   "outputs": [
    {
     "name": "stdout",
     "output_type": "stream",
     "text": [
      "Alpha: 0.1, Beta: 0.9, RMSE: 2.5977823231438286\n",
      "Alpha: 0.2, Beta: 0.8, RMSE: 2.591162919215175\n",
      "Alpha: 0.3, Beta: 0.7, RMSE: 2.585753022422322\n",
      "Alpha: 0.4, Beta: 0.6, RMSE: 2.5815602366766397\n",
      "Alpha: 0.5, Beta: 0.5, RMSE: 2.5785904990492443\n",
      "Alpha: 0.6, Beta: 0.4, RMSE: 2.5768480381189383\n",
      "Alpha: 0.7, Beta: 0.30000000000000004, RMSE: 2.576335344030571\n",
      "Alpha: 0.8, Beta: 0.19999999999999996, RMSE: 2.57705315075536\n",
      "Alpha: 0.9, Beta: 0.09999999999999998, RMSE: 2.5790004308468895\n",
      "\n",
      "Best Alpha:  0.7\n",
      "Best Beta:  0.30000000000000004\n",
      "Best RMSE:  2.576335344030571\n"
     ]
    }
   ],
   "source": [
    "# set alpha for the hybrid model. It will be alpha * model_1 + (1-alpha) * model_2\n",
    "alpha = [0.1, 0.2, 0.3, 0.4, 0.5, 0.6, 0.7, 0.8, 0.9]\n",
    "# create a variable for the best alpha, beta and rmse\n",
    "best_alpha = None\n",
    "best_beta = None\n",
    "best_rmse = float(\"inf\")\n",
    "\n",
    "# use for loop to test each alpha value\n",
    "for a in alpha:\n",
    "    # beta is the weight for second model = 1-alpha\n",
    "    beta = 1-a\n",
    "    pred = []\n",
    "\n",
    "    # for every input of the test model, fit the 2 model that will be concatenate together for the hybrid model\n",
    "    # calculate the pred by using the multiplication of a * model_1 + b * model_2\n",
    "    for user_id, item_id, true_r in test:\n",
    "        svd_pred = svd_tuned.predict(user_id, item_id).est\n",
    "        svdpp_pred = svdpp_tuned.predict(user_id, item_id).est\n",
    "        hybrid_pred = (a * svd_pred) + (beta * svdpp_pred)\n",
    "        pred.append((user_id, item_id, true_r, hybrid_pred))\n",
    "\n",
    "    # calculate the rmse for the hybrid model\n",
    "    rmse = np.sqrt(np.mean([(true_r - predict) ** 2 for user_id, item_id, true_r, predict in pred]))\n",
    "\n",
    "    # print the value\n",
    "    print(f\"Alpha: {a}, Beta: {beta}, RMSE: {rmse}\")\n",
    "\n",
    "    # check whether the rmse is better (lower) than the previous model. If yes, then, change the best_rmse, alpha, and beta\n",
    "    if rmse < best_rmse:\n",
    "        best_rmse = rmse\n",
    "        best_alpha = a\n",
    "        best_beta = beta\n",
    "\n",
    "print(\"\\nBest Alpha: \", best_alpha)\n",
    "print(\"Best Beta: \", best_beta)\n",
    "print(\"Best RMSE: \", best_rmse)"
   ]
  },
  {
   "cell_type": "markdown",
   "metadata": {},
   "source": [
    "SVD++ weight: 30%, SVD weight: 70%"
   ]
  },
  {
   "cell_type": "markdown",
   "metadata": {},
   "source": [
    "### SVD++ and Item Based"
   ]
  },
  {
   "cell_type": "code",
   "execution_count": 54,
   "metadata": {},
   "outputs": [
    {
     "name": "stdout",
     "output_type": "stream",
     "text": [
      "Alpha: 0.1, Beta: 0.9, RMSE: 2.6856090935969625\n",
      "Alpha: 0.2, Beta: 0.8, RMSE: 2.6692403848057187\n",
      "Alpha: 0.3, Beta: 0.7, RMSE: 2.660530259773483\n",
      "Alpha: 0.4, Beta: 0.6, RMSE: 2.659553965891353\n",
      "Alpha: 0.5, Beta: 0.5, RMSE: 2.666319998580813\n",
      "Alpha: 0.6, Beta: 0.4, RMSE: 2.680769735579884\n",
      "Alpha: 0.7, Beta: 0.30000000000000004, RMSE: 2.7027799426878225\n",
      "Alpha: 0.8, Beta: 0.19999999999999996, RMSE: 2.732167905714367\n",
      "Alpha: 0.9, Beta: 0.09999999999999998, RMSE: 2.768698704167928\n",
      "\n",
      "Best Alpha:  0.4\n",
      "Best Beta:  0.6\n",
      "Best RMSE:  2.659553965891353\n"
     ]
    }
   ],
   "source": [
    "# set alpha for the hybrid model. It will be alpha * model_1 + (1-alpha) * model_2\n",
    "alpha = [0.1, 0.2, 0.3, 0.4, 0.5, 0.6, 0.7, 0.8, 0.9]\n",
    "# create a variable for the best alpha, beta and rmse\n",
    "best_alpha = None\n",
    "best_beta = None\n",
    "best_rmse = float(\"inf\")\n",
    "\n",
    "# use for loop to test each alpha value\n",
    "for a in alpha:\n",
    "    # beta is the weight for second model = 1-alpha\n",
    "    beta = 1-a\n",
    "    pred = []\n",
    "\n",
    "    # for every input of the test model, fit the 2 model that will be concatenate together for the hybrid model\n",
    "    # calculate the pred by using the multiplication of a * model_1 + b * model_2\n",
    "    for user_id, item_id, true_r in test:\n",
    "        item_pred = item_tuned.predict(user_id, item_id).est\n",
    "        svd_pred = svdpp_tuned.predict(user_id, item_id).est\n",
    "        hybrid_pred = (a * item_pred) + (beta * svdpp_pred)\n",
    "        pred.append((user_id, item_id, true_r, hybrid_pred))\n",
    "\n",
    "    # calculate the rmse for the hybrid model\n",
    "    rmse = np.sqrt(np.mean([(true_r - predict) ** 2 for user_id, item_id, true_r, predict in pred]))\n",
    "\n",
    "    # print the value\n",
    "    print(f\"Alpha: {a}, Beta: {beta}, RMSE: {rmse}\")\n",
    "\n",
    "    # check whether the rmse is better (lower) than the previous model. If yes, then, change the best_rmse, alpha, and beta\n",
    "    if rmse < best_rmse:\n",
    "        best_rmse = rmse\n",
    "        best_alpha = a\n",
    "        best_beta = beta\n",
    "\n",
    "print(\"\\nBest Alpha: \", best_alpha)\n",
    "print(\"Best Beta: \", best_beta)\n",
    "print(\"Best RMSE: \", best_rmse)"
   ]
  },
  {
   "cell_type": "markdown",
   "metadata": {},
   "source": [
    "Item Based weight: 20%\n",
    "SVD++ Weight: 80%"
   ]
  },
  {
   "cell_type": "markdown",
   "metadata": {},
   "source": [
    "### Deep Learning and SVD++"
   ]
  },
  {
   "cell_type": "code",
   "execution_count": 58,
   "metadata": {},
   "outputs": [
    {
     "name": "stdout",
     "output_type": "stream",
     "text": [
      "Alpha (SVD++): 0.1, Beta (DL): 0.9, RMSE: 2.6161\n",
      "Alpha (SVD++): 0.2, Beta (DL): 0.8, RMSE: 2.6209\n",
      "Alpha (SVD++): 0.3, Beta (DL): 0.7, RMSE: 2.6257\n",
      "Alpha (SVD++): 0.4, Beta (DL): 0.6, RMSE: 2.6306\n",
      "Alpha (SVD++): 0.5, Beta (DL): 0.5, RMSE: 2.6355\n",
      "Alpha (SVD++): 0.6, Beta (DL): 0.4, RMSE: 2.6405\n",
      "Alpha (SVD++): 0.7, Beta (DL): 0.3, RMSE: 2.6455\n",
      "Alpha (SVD++): 0.8, Beta (DL): 0.2, RMSE: 2.6505\n",
      "Alpha (SVD++): 0.9, Beta (DL): 0.1, RMSE: 2.6556\n",
      "Best Alpha (SVD++): 0.1\n",
      "Best Beta (DL): 0.9\n",
      "Best RMSE: 2.6161\n"
     ]
    }
   ],
   "source": [
    "import numpy as np\n",
    "from sklearn.metrics import mean_squared_error\n",
    "import tensorflow as tf\n",
    "\n",
    "# Define weight combinations to test\n",
    "alpha_values = [0.1, 0.2, 0.3, 0.4, 0.5, 0.6, 0.7, 0.8, 0.9]\n",
    "\n",
    "best_alpha = None\n",
    "best_beta = None\n",
    "best_rmse = float(\"inf\")\n",
    "\n",
    "# Get the test data in the right format\n",
    "test_users = np.array([user_id for user_id, item_id, _ in test], dtype=str)\n",
    "test_items = np.array([item_id for user_id, item_id, _ in test], dtype=str)\n",
    "y_true = np.array([true_r for _, _, true_r in test])\n",
    "\n",
    "# Get SVD++ predictions\n",
    "svdpp_predictions = []\n",
    "for user, item in zip(test_users, test_items):\n",
    "    try:\n",
    "        pred = svdpp_tuned.predict(user, item).est\n",
    "        svdpp_predictions.append(pred)\n",
    "    except Exception as e:\n",
    "        # Use global mean for any prediction failures\n",
    "        svdpp_predictions.append(svdpp_tuned.trainset.global_mean)\n",
    "svdpp_predictions = np.array(svdpp_predictions)\n",
    "\n",
    "# Get deep learning predictions\n",
    "user_indices = []\n",
    "item_indices = []\n",
    "valid_indices = []  # To track which test samples have valid mappings\n",
    "\n",
    "for i, (user, item) in enumerate(zip(test_users, test_items)):\n",
    "    if user in user_mapping and item in vendor_mapping:\n",
    "        user_indices.append(user_mapping[user])\n",
    "        item_indices.append(vendor_mapping[item])\n",
    "        valid_indices.append(i)\n",
    "\n",
    "user_input = np.array(user_indices, dtype=np.int32).reshape(-1, 1)\n",
    "item_input = np.array(item_indices, dtype=np.int32).reshape(-1, 1)\n",
    "\n",
    "dl_predictions_valid = deep_learning_model.predict([user_input, item_input], verbose=0).flatten()\n",
    "\n",
    "# Create a full array of predictions, matching the size of svdpp_predictions\n",
    "dl_predictions = np.zeros_like(svdpp_predictions)\n",
    "for i, valid_idx in enumerate(valid_indices):\n",
    "    dl_predictions[valid_idx] = dl_predictions_valid[i]\n",
    "\n",
    "# For any test samples where we couldn't make a deep learning prediction,\n",
    "# use the SVD++ prediction as a fallback\n",
    "invalid_indices = list(set(range(len(test_users))) - set(valid_indices))\n",
    "for idx in invalid_indices:\n",
    "    dl_predictions[idx] = svdpp_predictions[idx]\n",
    "\n",
    "# Normalize predictions to similar scales if needed\n",
    "dl_mean = np.mean(dl_predictions)\n",
    "dl_std = np.std(dl_predictions)\n",
    "svdpp_mean = np.mean(svdpp_predictions)\n",
    "svdpp_std = np.std(svdpp_predictions)\n",
    "\n",
    "dl_predictions_normalized = (dl_predictions - dl_mean) / dl_std\n",
    "svdpp_predictions_normalized = (svdpp_predictions - svdpp_mean) / svdpp_std\n",
    "\n",
    "# Scale back to original range (centered on SVD++ mean)\n",
    "dl_predictions_scaled = dl_predictions_normalized * svdpp_std + svdpp_mean\n",
    "\n",
    "for alpha in alpha_values:\n",
    "    beta = 1 - alpha\n",
    "    hybrid_predictions = (alpha * svdpp_predictions) + (beta * dl_predictions_scaled)\n",
    "    rmse = np.sqrt(mean_squared_error(y_true, hybrid_predictions))\n",
    "\n",
    "    print(f\"Alpha (SVD++): {alpha:.1f}, Beta (DL): {beta:.1f}, RMSE: {rmse:.4f}\")\n",
    "\n",
    "    if rmse < best_rmse:\n",
    "        best_rmse = rmse\n",
    "        best_alpha_norm = alpha\n",
    "        best_beta_norm = beta\n",
    "\n",
    "print(f\"Best Alpha (SVD++): {best_alpha_norm:.1f}\")\n",
    "print(f\"Best Beta (DL): {best_beta_norm:.1f}\")\n",
    "print(f\"Best RMSE: {best_rmse:.4f}\")\n"
   ]
  },
  {
   "cell_type": "markdown",
   "metadata": {},
   "source": [
    "- SVD++ and other CF models assume linear interactions between users and items.\n",
    "- Deep Learning can model non-linear interactions, even with just user and item embeddings.\n",
    "- SVD++ assumes rating(user, item) = sum(user factors * item factors).\n",
    "- Deep Learning uses embeddings + dense layers, allowing non-linear relationships.\n"
   ]
  },
  {
   "cell_type": "markdown",
   "metadata": {},
   "source": [
    "## Another Type of Hybrid Model:"
   ]
  },
  {
   "cell_type": "markdown",
   "metadata": {},
   "source": [
    "### Recommendation Stacked Model"
   ]
  },
  {
   "cell_type": "code",
   "execution_count": 59,
   "metadata": {},
   "outputs": [
    {
     "name": "stdout",
     "output_type": "stream",
     "text": [
      "Unique Tags: ['American', 'Arabic', 'Asian', 'Bagels', 'Biryani', 'Breakfast', 'Burgers', 'Cafe', 'Cakes', 'Chinese', 'Churros', 'Coffee', 'Combos', 'Crepes', 'Desserts', 'Dimsum', 'Donuts', 'Family Meal', 'Fatayers', 'Free Delivery', 'Fresh Juices', 'Fries', 'Frozen yoghurt', 'Grills', 'Healthy Food', 'Hot Chocolate', 'Hot Dogs', 'Ice creams', 'Indian', 'Italian', 'Japanese', 'Karak', 'Kebabs', 'Kids meal', 'Kushari', 'Lebanese', 'Manakeesh', 'Mandazi', 'Mexican', 'Milkshakes', 'Mishkak', 'Mojitos', 'Omani', 'Organic', 'Pancakes', 'Pasta', 'Pastas', 'Pastry', 'Pizza', 'Pizzas', 'Rice', 'Rolls', 'Salads', 'Sandwiches', 'Seafood', 'Shawarma', 'Shuwa', 'Smoothies', 'Soups', 'Spanish Latte', 'Steaks', 'Sushi', 'Sweets', 'Thai', 'Thali', 'Vegetarian', 'Waffles']\n"
     ]
    }
   ],
   "source": [
    "# Example vendor tags column\n",
    "vendor_tags = df['vendor_tag_name'].dropna().tolist()  # Drop missing values\n",
    "all_tags = set()\n",
    "\n",
    "# Collect all unique tags\n",
    "for tags in vendor_tags:\n",
    "    tag_list = [tag.strip() for tag in tags.split(',')]  # Split and clean\n",
    "    all_tags.update(tag_list)\n",
    "\n",
    "# Convert to sorted list for consistency\n",
    "all_tags = sorted(all_tags)\n",
    "print(\"Unique Tags:\", all_tags)"
   ]
  },
  {
   "cell_type": "code",
   "execution_count": 60,
   "metadata": {},
   "outputs": [],
   "source": [
    "from sklearn.preprocessing import MultiLabelBinarizer\n",
    "\n",
    "# Convert each vendor's tags into a list\n",
    "df['vendor_tag_list'] = df['vendor_tag_name'].apply(lambda x: [tag.strip() for tag in x.split(',')] if pd.notna(x) else [])\n",
    "\n",
    "# Use MultiLabelBinarizer to create binary features for each tag\n",
    "mlb = MultiLabelBinarizer()\n",
    "tag_encoded = pd.DataFrame(mlb.fit_transform(df['vendor_tag_list']), columns=mlb.classes_)\n",
    "\n",
    "# Merge with the original dataframe\n",
    "df = df.join(tag_encoded)\n",
    "df.drop(columns=['vendor_tag_name', 'vendor_tag_list'], inplace=True)  # Drop original tag columns"
   ]
  },
  {
   "cell_type": "code",
   "execution_count": 61,
   "metadata": {},
   "outputs": [],
   "source": [
    "X_train_tags = tag_encoded.iloc[X_train_vendor].values  # Get one-hot tag encoding for training\n",
    "X_test_tags = tag_encoded.iloc[X_test_vendor].values  # Get one-hot tag encoding for testing"
   ]
  },
  {
   "cell_type": "code",
   "execution_count": 62,
   "metadata": {},
   "outputs": [
    {
     "name": "stderr",
     "output_type": "stream",
     "text": [
      "WARNING:absl:Compiled the loaded model, but the compiled metrics have yet to be built. `model.compile_metrics` will be empty until you train or evaluate the model.\n"
     ]
    },
    {
     "name": "stdout",
     "output_type": "stream",
     "text": [
      "Best Parameters: {'max_depth': 30, 'min_samples_leaf': 3, 'min_samples_split': 2, 'n_estimators': 200}\n"
     ]
    }
   ],
   "source": [
    "from sklearn.model_selection import GridSearchCV\n",
    "from sklearn.ensemble import RandomForestRegressor\n",
    "from sklearn.metrics import mean_squared_error\n",
    "from tensorflow.keras.models import load_model\n",
    "from tensorflow.keras.losses import MeanSquaredError\n",
    "\n",
    "# 1. First, load the deep learning model\n",
    "deep_learning_model = load_model(\"deep_learning_model_recom.h5\", \n",
    "                                   custom_objects={\"mse\": MeanSquaredError()})\n",
    "\n",
    "# Prepare inputs\n",
    "X_train_user_encoded = np.array([user_mapping.get(str(user), 0) for user in X_train_user], dtype=np.int32)\n",
    "X_train_vendor_encoded = np.array([vendor_mapping.get(str(vendor), 0) for vendor in X_train_vendor], dtype=np.int32)\n",
    "X_test_user_encoded = np.array([user_mapping.get(str(user), 0) for user in X_test_user], dtype=np.int32)\n",
    "X_test_vendor_encoded = np.array([vendor_mapping.get(str(vendor), 0) for vendor in X_test_vendor], dtype=np.int32)\n",
    "\n",
    "# Get deep learning predictions for training set\n",
    "dl_train_preds = deep_learning_model.predict(\n",
    "    [X_train_user_encoded.reshape(-1, 1), X_train_vendor_encoded.reshape(-1, 1)], \n",
    "    verbose=0\n",
    ").flatten()\n",
    "\n",
    "# Get SVD++ predictions for training set\n",
    "svdpp_train_preds = []\n",
    "for user, vendor in zip(X_train_user, X_train_vendor):\n",
    "    try:\n",
    "        pred = svdpp_tuned.predict(str(user), str(vendor)).est\n",
    "        svdpp_train_preds.append(pred)\n",
    "    except:\n",
    "        # If prediction fails, use global mean\n",
    "        svdpp_train_preds.append(svdpp_tuned.trainset.global_mean)\n",
    "svdpp_train_preds = np.array(svdpp_train_preds)\n",
    "\n",
    "# Create combined feature vectors for training\n",
    "features_train = np.column_stack([\n",
    "    dl_train_preds,       \n",
    "    svdpp_train_preds,            \n",
    "    X_train_tags\n",
    "])\n",
    "\n",
    "# 3. Train a Random Forest model to combine these signals\n",
    "param_grid = {\n",
    "    'n_estimators': [50, 100, 200],\n",
    "    'max_depth': [10, 20, 30],\n",
    "    'min_samples_split': [2, 5, 10],\n",
    "    'min_samples_leaf': [3, 5, 7]\n",
    "}\n",
    "\n",
    "# Create grid search with cross-validation\n",
    "grid_search = GridSearchCV(\n",
    "    RandomForestRegressor(random_state=42),\n",
    "    param_grid=param_grid,\n",
    "    cv=5,\n",
    "    scoring='neg_root_mean_squared_error', # GridSearchCV from sckitlearn will automatically calculate the higher score the better. For RMSE we want lower is the best one, so need to take the negative of it\n",
    "    n_jobs=-1\n",
    ")\n",
    "\n",
    "# Fit the grid search\n",
    "grid_search.fit(features_train, y_train)\n",
    "\n",
    "# Get best parameters and model\n",
    "best_params = grid_search.best_params_\n",
    "print(f\"Best Parameters: {best_params}\")\n",
    "best_rf_model = grid_search.best_estimator_"
   ]
  },
  {
   "cell_type": "code",
   "execution_count": 63,
   "metadata": {},
   "outputs": [],
   "source": [
    "# 4. Now prepare test data in the same way\n",
    "dl_test_preds = deep_learning_model.predict(\n",
    "    [X_test_user_encoded.reshape(-1, 1), X_test_vendor_encoded.reshape(-1, 1)], \n",
    "    verbose=0\n",
    ").flatten()\n",
    "\n",
    "svdpp_test_preds = []\n",
    "for user, vendor in zip(X_test_user, X_test_vendor):\n",
    "    try:\n",
    "        pred = svdpp_tuned.predict(str(user), str(vendor)).est\n",
    "        svdpp_test_preds.append(pred)\n",
    "    except:\n",
    "        svdpp_test_preds.append(svdpp_tuned.trainset.global_mean)\n",
    "svdpp_test_preds = np.array(svdpp_test_preds)\n",
    "\n",
    "features_test = np.column_stack([\n",
    "    dl_test_preds,\n",
    "    svdpp_test_preds,\n",
    "    X_test_tags\n",
    "])"
   ]
  },
  {
   "cell_type": "code",
   "execution_count": 64,
   "metadata": {},
   "outputs": [
    {
     "name": "stdout",
     "output_type": "stream",
     "text": [
      "Combined Test Set RMSE: 2.4803\n",
      "\n",
      "Top 10 Most Important Features:\n",
      "          Feature  Importance\n",
      "0        DL_Score    0.374516\n",
      "54         Salads    0.081009\n",
      "8         Burgers    0.080392\n",
      "23          Fries    0.061468\n",
      "3          Arabic    0.059897\n",
      "7       Breakfast    0.057714\n",
      "44          Omani    0.036856\n",
      "16       Desserts    0.025948\n",
      "21  Free Delivery    0.024971\n",
      "40        Mexican    0.018666\n"
     ]
    }
   ],
   "source": [
    "# 5. Make predictions on test data\n",
    "rf_predictions = best_rf_model.predict(features_test)\n",
    "\n",
    "# Calculate the combined RMSE on the test set\n",
    "combined_rmse = np.sqrt(mean_squared_error(y_test, rf_predictions))\n",
    "\n",
    "print(f\"Combined Test Set RMSE: {combined_rmse:.4f}\")\n",
    "\n",
    "feature_names = ['DL_Score', 'SVD++_Score'] + list(mlb.classes_)\n",
    "feature_importances = pd.DataFrame({\n",
    "    'Feature': feature_names[:features_train.shape[1]], \n",
    "    'Importance': best_rf_model.feature_importances_\n",
    "})\n",
    "print(\"\\nTop 10 Most Important Features:\")\n",
    "print(feature_importances.sort_values('Importance', ascending=False).head(10))"
   ]
  },
  {
   "cell_type": "code",
   "execution_count": 65,
   "metadata": {},
   "outputs": [
    {
     "name": "stdout",
     "output_type": "stream",
     "text": [
      "Epoch 1/50\n",
      "\u001b[1m3851/3851\u001b[0m \u001b[32m━━━━━━━━━━━━━━━━━━━━\u001b[0m\u001b[37m\u001b[0m \u001b[1m3s\u001b[0m 630us/step - loss: 7.0325 - val_loss: 7.4207 - learning_rate: 5.0000e-04\n",
      "Epoch 2/50\n",
      "\u001b[1m3851/3851\u001b[0m \u001b[32m━━━━━━━━━━━━━━━━━━━━\u001b[0m\u001b[37m\u001b[0m \u001b[1m2s\u001b[0m 555us/step - loss: 5.2639 - val_loss: 7.3189 - learning_rate: 5.0000e-04\n",
      "Epoch 3/50\n",
      "\u001b[1m3851/3851\u001b[0m \u001b[32m━━━━━━━━━━━━━━━━━━━━\u001b[0m\u001b[37m\u001b[0m \u001b[1m2s\u001b[0m 617us/step - loss: 5.1828 - val_loss: 7.2238 - learning_rate: 5.0000e-04\n",
      "Epoch 4/50\n",
      "\u001b[1m3851/3851\u001b[0m \u001b[32m━━━━━━━━━━━━━━━━━━━━\u001b[0m\u001b[37m\u001b[0m \u001b[1m2s\u001b[0m 562us/step - loss: 5.1632 - val_loss: 7.1623 - learning_rate: 5.0000e-04\n",
      "Epoch 5/50\n",
      "\u001b[1m3851/3851\u001b[0m \u001b[32m━━━━━━━━━━━━━━━━━━━━\u001b[0m\u001b[37m\u001b[0m \u001b[1m2s\u001b[0m 596us/step - loss: 4.7562 - val_loss: 7.1174 - learning_rate: 5.0000e-04\n",
      "Epoch 6/50\n",
      "\u001b[1m3851/3851\u001b[0m \u001b[32m━━━━━━━━━━━━━━━━━━━━\u001b[0m\u001b[37m\u001b[0m \u001b[1m2s\u001b[0m 549us/step - loss: 4.6778 - val_loss: 7.0859 - learning_rate: 5.0000e-04\n",
      "Epoch 7/50\n",
      "\u001b[1m3851/3851\u001b[0m \u001b[32m━━━━━━━━━━━━━━━━━━━━\u001b[0m\u001b[37m\u001b[0m \u001b[1m2s\u001b[0m 562us/step - loss: 5.2617 - val_loss: 7.0571 - learning_rate: 5.0000e-04\n",
      "Epoch 8/50\n",
      "\u001b[1m3851/3851\u001b[0m \u001b[32m━━━━━━━━━━━━━━━━━━━━\u001b[0m\u001b[37m\u001b[0m \u001b[1m2s\u001b[0m 562us/step - loss: 4.7917 - val_loss: 7.0452 - learning_rate: 5.0000e-04\n",
      "Epoch 9/50\n",
      "\u001b[1m3851/3851\u001b[0m \u001b[32m━━━━━━━━━━━━━━━━━━━━\u001b[0m\u001b[37m\u001b[0m \u001b[1m2s\u001b[0m 566us/step - loss: 5.2918 - val_loss: 7.0338 - learning_rate: 5.0000e-04\n",
      "Epoch 10/50\n",
      "\u001b[1m3851/3851\u001b[0m \u001b[32m━━━━━━━━━━━━━━━━━━━━\u001b[0m\u001b[37m\u001b[0m \u001b[1m2s\u001b[0m 615us/step - loss: 4.5708 - val_loss: 7.0161 - learning_rate: 5.0000e-04\n",
      "Epoch 11/50\n",
      "\u001b[1m3851/3851\u001b[0m \u001b[32m━━━━━━━━━━━━━━━━━━━━\u001b[0m\u001b[37m\u001b[0m \u001b[1m2s\u001b[0m 592us/step - loss: 4.7684 - val_loss: 7.0344 - learning_rate: 5.0000e-04\n",
      "Epoch 12/50\n",
      "\u001b[1m3851/3851\u001b[0m \u001b[32m━━━━━━━━━━━━━━━━━━━━\u001b[0m\u001b[37m\u001b[0m \u001b[1m2s\u001b[0m 605us/step - loss: 4.4652 - val_loss: 6.9966 - learning_rate: 5.0000e-04\n",
      "Epoch 13/50\n",
      "\u001b[1m3851/3851\u001b[0m \u001b[32m━━━━━━━━━━━━━━━━━━━━\u001b[0m\u001b[37m\u001b[0m \u001b[1m3s\u001b[0m 648us/step - loss: 4.8593 - val_loss: 7.0021 - learning_rate: 5.0000e-04\n",
      "Epoch 14/50\n",
      "\u001b[1m3851/3851\u001b[0m \u001b[32m━━━━━━━━━━━━━━━━━━━━\u001b[0m\u001b[37m\u001b[0m \u001b[1m2s\u001b[0m 605us/step - loss: 4.3179 - val_loss: 7.0041 - learning_rate: 5.0000e-04\n",
      "Epoch 15/50\n",
      "\u001b[1m3838/3851\u001b[0m \u001b[32m━━━━━━━━━━━━━━━━━━━\u001b[0m\u001b[37m━\u001b[0m \u001b[1m0s\u001b[0m 484us/step - loss: 4.7900\n",
      "Epoch 15: ReduceLROnPlateau reducing learning rate to 0.0002500000118743628.\n",
      "\u001b[1m3851/3851\u001b[0m \u001b[32m━━━━━━━━━━━━━━━━━━━━\u001b[0m\u001b[37m\u001b[0m \u001b[1m2s\u001b[0m 617us/step - loss: 4.7904 - val_loss: 7.0465 - learning_rate: 5.0000e-04\n",
      "Epoch 16/50\n",
      "\u001b[1m3851/3851\u001b[0m \u001b[32m━━━━━━━━━━━━━━━━━━━━\u001b[0m\u001b[37m\u001b[0m \u001b[1m2s\u001b[0m 584us/step - loss: 4.6843 - val_loss: 6.9905 - learning_rate: 2.5000e-04\n",
      "Epoch 17/50\n",
      "\u001b[1m3851/3851\u001b[0m \u001b[32m━━━━━━━━━━━━━━━━━━━━\u001b[0m\u001b[37m\u001b[0m \u001b[1m2s\u001b[0m 574us/step - loss: 5.3057 - val_loss: 6.9875 - learning_rate: 2.5000e-04\n",
      "Epoch 18/50\n",
      "\u001b[1m3851/3851\u001b[0m \u001b[32m━━━━━━━━━━━━━━━━━━━━\u001b[0m\u001b[37m\u001b[0m \u001b[1m3s\u001b[0m 663us/step - loss: 4.6353 - val_loss: 6.9884 - learning_rate: 2.5000e-04\n",
      "Epoch 19/50\n",
      "\u001b[1m3851/3851\u001b[0m \u001b[32m━━━━━━━━━━━━━━━━━━━━\u001b[0m\u001b[37m\u001b[0m \u001b[1m2s\u001b[0m 593us/step - loss: 4.8475 - val_loss: 6.9890 - learning_rate: 2.5000e-04\n",
      "Epoch 20/50\n",
      "\u001b[1m3802/3851\u001b[0m \u001b[32m━━━━━━━━━━━━━━━━━━━\u001b[0m\u001b[37m━\u001b[0m \u001b[1m0s\u001b[0m 463us/step - loss: 4.8908\n",
      "Epoch 20: ReduceLROnPlateau reducing learning rate to 0.0001250000059371814.\n",
      "\u001b[1m3851/3851\u001b[0m \u001b[32m━━━━━━━━━━━━━━━━━━━━\u001b[0m\u001b[37m\u001b[0m \u001b[1m2s\u001b[0m 594us/step - loss: 4.8907 - val_loss: 7.0020 - learning_rate: 2.5000e-04\n",
      "Epoch 21/50\n",
      "\u001b[1m3851/3851\u001b[0m \u001b[32m━━━━━━━━━━━━━━━━━━━━\u001b[0m\u001b[37m\u001b[0m \u001b[1m2s\u001b[0m 596us/step - loss: 5.3060 - val_loss: 6.9973 - learning_rate: 1.2500e-04\n",
      "Epoch 22/50\n",
      "\u001b[1m3851/3851\u001b[0m \u001b[32m━━━━━━━━━━━━━━━━━━━━\u001b[0m\u001b[37m\u001b[0m \u001b[1m2s\u001b[0m 639us/step - loss: 4.7835 - val_loss: 7.0117 - learning_rate: 1.2500e-04\n",
      "\u001b[1m590/590\u001b[0m \u001b[32m━━━━━━━━━━━━━━━━━━━━\u001b[0m\u001b[37m\u001b[0m \u001b[1m0s\u001b[0m 274us/step\n",
      "Neural Network Ensemble RMSE: 2.4844\n"
     ]
    }
   ],
   "source": [
    "from tensorflow.keras.models import Sequential, Model\n",
    "from tensorflow.keras.layers import Dense, Dropout, Input, BatchNormalization\n",
    "from tensorflow.keras.optimizers import Adam\n",
    "from tensorflow.keras.regularizers import l2\n",
    "from tensorflow.keras.callbacks import EarlyStopping, ReduceLROnPlateau\n",
    "\n",
    "# Create input layer for the features\n",
    "input_features = Input(shape=(features_train.shape[1],))\n",
    "\n",
    "# Fully connected layers with Dropout and L2 Regularization\n",
    "x = Dense(64, activation='relu', kernel_regularizer=l2(0.005))(input_features)\n",
    "x = BatchNormalization()(x)\n",
    "x = Dropout(0.2)(x)\n",
    "\n",
    "x = Dense(32, activation='relu', kernel_regularizer=l2(0.005))(x)\n",
    "x = BatchNormalization()(x)\n",
    "x = Dropout(0.2)(x)\n",
    "\n",
    "x = Dense(16, activation='relu', kernel_regularizer=l2(0.005))(x)\n",
    "x = BatchNormalization()(x)\n",
    "x = Dropout(0.2)(x)\n",
    "output = Dense(1)(x)\n",
    "\n",
    "# Create the model\n",
    "nn_combiner = Model(inputs=input_features, outputs=output)\n",
    "\n",
    "# Compile the model\n",
    "nn_combiner.compile(optimizer=Adam(learning_rate=0.0005), loss='mse')\n",
    "\n",
    "# Callbacks\n",
    "early_stopping = EarlyStopping(monitor='val_loss', patience=5, restore_best_weights=True)\n",
    "lr_scheduler = ReduceLROnPlateau(monitor='val_loss', factor=0.5, patience=3, verbose=1)\n",
    "\n",
    "# Train the model\n",
    "history = nn_combiner.fit(\n",
    "    features_train, y_train,\n",
    "    epochs=50,\n",
    "    batch_size=8,\n",
    "    validation_split=0.3,\n",
    "    callbacks=[early_stopping, lr_scheduler],\n",
    "    verbose=1\n",
    ")\n",
    "\n",
    "# Evaluate on test set\n",
    "nn_predictions = nn_combiner.predict(features_test).flatten()\n",
    "nn_rmse = np.sqrt(mean_squared_error(y_test, nn_predictions))\n",
    "print(f\"Neural Network Ensemble RMSE: {nn_rmse:.4f}\")"
   ]
  },
  {
   "cell_type": "code",
   "execution_count": 66,
   "metadata": {},
   "outputs": [
    {
     "data": {
      "image/png": "[encoded data removed]",
      "text/plain": [
       "<Figure size 800x600 with 1 Axes>"
      ]
     },
     "metadata": {},
     "output_type": "display_data"
    }
   ],
   "source": [
    "# Plot the loss\n",
    "plt.figure(figsize=(8, 6))\n",
    "plt.plot(history.history['loss'], label='Training Loss')\n",
    "plt.plot(history.history['val_loss'], label='Validation Loss')\n",
    "plt.title('Model Loss During Training')\n",
    "plt.xlabel('Epochs')\n",
    "plt.ylabel('Loss')\n",
    "plt.legend()\n",
    "plt.show()"
   ]
  },
  {
   "cell_type": "markdown",
   "metadata": {},
   "source": [
    "### For Cold Sart Problem\n",
    "We will ask the buyer to select their favorite type of restaurant as soon as their registration successful."
   ]
  },
  {
   "cell_type": "code",
   "execution_count": 72,
   "metadata": {},
   "outputs": [],
   "source": [
    "# Create a cold-start specific dataset\n",
    "# Use only the tag features for training\n",
    "cold_start_features = X_train_tags\n",
    "cold_start_model = RandomForestRegressor(\n",
    "    n_estimators=50,\n",
    "    max_depth=30,\n",
    "    random_state=42\n",
    ")\n",
    "cold_start_model.fit(cold_start_features, y_train)\n",
    "\n",
    "# For new users:\n",
    "def recommend_for_new_user(user_selected_tags, top_n=10):\n",
    "    # Convert user's selected tags to binary vector\n",
    "    user_tag_vector = np.zeros(len(mlb.classes_))\n",
    "    for tag in user_selected_tags:\n",
    "        if tag in mlb.classes_:\n",
    "            idx = np.where(mlb.classes_ == tag)[0][0]\n",
    "            user_tag_vector[idx] = 1\n",
    "    \n",
    "    # Get all vendors\n",
    "    all_vendors = list(vendor_mapping.keys())\n",
    "    vendor_scores = []\n",
    "    \n",
    "    # Score each vendor based on tag matching and similarity\n",
    "    for vendor_id in all_vendors:\n",
    "        vendor_idx = vendor_mapping.get(vendor_id)\n",
    "        if vendor_idx is not None and vendor_idx < len(tag_encoded):\n",
    "            vendor_tag_vector = tag_encoded.iloc[vendor_idx].values\n",
    "            \n",
    "            # Calculate similarity between user preferences and vendor tags\n",
    "            # You might need to combine this with your model prediction\n",
    "            similarity = np.dot(user_tag_vector, vendor_tag_vector) / (np.linalg.norm(user_tag_vector) * np.linalg.norm(vendor_tag_vector) + 1e-8)\n",
    "            \n",
    "            # Use the cold start model to predict based on vendor tags and/or similarity\n",
    "            # This depends on how your model was trained\n",
    "            predicted_score = cold_start_model.predict([vendor_tag_vector])[0] * (1 + similarity)\n",
    "            vendor_scores.append((vendor_id, predicted_score))\n",
    "    \n",
    "    # Sort and return top N recommendations\n",
    "    vendor_scores.sort(key=lambda x: x[1], reverse=True)\n",
    "    return vendor_scores[:top_n]"
   ]
  },
  {
   "cell_type": "code",
   "execution_count": 73,
   "metadata": {},
   "outputs": [
    {
     "data": {
      "text/plain": [
       "[('106', 3.587728209596047),\n",
       " ('113', 3.587728209596047),\n",
       " ('13', 3.587728209596047),\n",
       " ('149', 3.587728209596047),\n",
       " ('154', 3.587728209596047),\n",
       " ('176', 3.587728209596047),\n",
       " ('180', 3.587728209596047),\n",
       " ('20', 3.587728209596047),\n",
       " ('67', 3.0273279658709153),\n",
       " ('157', 2.9068127388867797)]"
      ]
     },
     "execution_count": 73,
     "metadata": {},
     "output_type": "execute_result"
    }
   ],
   "source": [
    "recommend_for_new_user(['Salads'], 10)"
   ]
  },
  {
   "cell_type": "code",
   "execution_count": 74,
   "metadata": {},
   "outputs": [
    {
     "data": {
      "text/plain": [
       "[('110', 3.2331936879441874),\n",
       " ('157', 2.9068127388867797),\n",
       " ('160', 2.9068127388867797),\n",
       " ('104', 2.8809810575641697),\n",
       " ('134', 2.8809810575641697),\n",
       " ('145', 2.8809810575641697),\n",
       " ('92', 2.8809810575641697),\n",
       " ('855', 2.6599800459986342),\n",
       " ('216', 2.456637235817597),\n",
       " ('310', 2.456637235817597)]"
      ]
     },
     "execution_count": 74,
     "metadata": {},
     "output_type": "execute_result"
    }
   ],
   "source": [
    "recommend_for_new_user(['American'], 10)"
   ]
  },
  {
   "cell_type": "code",
   "execution_count": null,
   "metadata": {},
   "outputs": [],
   "source": []
  }
 ],
 "metadata": {
  "kernelspec": {
   "display_name": "base",
   "language": "python",
   "name": "python3"
  },
  "language_info": {
   "codemirror_mode": {
    "name": "ipython",
    "version": 3
   },
   "file_extension": ".py",
   "mimetype": "text/x-python",
   "name": "python",
   "nbconvert_exporter": "python",
   "pygments_lexer": "ipython3",
   "version": "3.12.2"
  }
 },
 "nbformat": 4,
 "nbformat_minor": 2
}
